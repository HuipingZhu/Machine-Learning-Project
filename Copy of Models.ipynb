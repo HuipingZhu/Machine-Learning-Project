{
 "cells": [
  {
   "cell_type": "markdown",
   "metadata": {},
   "source": [
    "# Avito Deal Prediction Project"
   ]
  },
  {
   "cell_type": "code",
   "execution_count": 1,
   "metadata": {},
   "outputs": [],
   "source": [
    "import pandas as pd\n",
    "import numpy as np\n",
    "from collections import defaultdict\n",
    "from scipy.stats import itemfreq\n",
    "from scipy import ndimage as ndi\n",
    "import matplotlib.pyplot as plt\n",
    "from skimage import feature\n",
    "from PIL import Image as IMG\n",
    "import operator\n",
    "import cv2\n",
    "import os \n",
    "\n",
    "from IPython.core.display import HTML \n",
    "from IPython.display import Image\n",
    "\n",
    "from sklearn.model_selection import train_test_split\n",
    "import matplotlib.pyplot as plt\n",
    "import seaborn as sns"
   ]
  },
  {
   "cell_type": "code",
   "execution_count": null,
   "metadata": {},
   "outputs": [],
   "source": []
  },
  {
   "cell_type": "markdown",
   "metadata": {},
   "source": [
    "## Model Building"
   ]
  },
  {
   "cell_type": "markdown",
   "metadata": {},
   "source": [
    "### 1.GLM"
   ]
  },
  {
   "cell_type": "code",
   "execution_count": 100,
   "metadata": {},
   "outputs": [
    {
     "name": "stdout",
     "output_type": "stream",
     "text": [
      "[WARNING] in <ipython-input-100-02ff3806b010> line 1:\n",
      "    >>> h2o.shutdown(prompt=False)\n",
      "        ^^^^ Deprecated, use ``h2o.cluster().shutdown()``.\n",
      "H2O session _sid_9952 closed.\n"
     ]
    }
   ],
   "source": [
    "h2o.shutdown(prompt=False)"
   ]
  },
  {
   "cell_type": "code",
   "execution_count": 60,
   "metadata": {},
   "outputs": [],
   "source": [
    "newtrain_train=pd.read_csv('train_new_wanmo.csv')\n",
    "newtrain_validate=pd.read_csv('validate_new_wanmo.csv')\n",
    "newtest=pd.read_csv('test_new_wanmo.csv')"
   ]
  },
  {
   "cell_type": "code",
   "execution_count": 12,
   "metadata": {},
   "outputs": [
    {
     "data": {
      "text/plain": [
       "Index(['item_id', 'price', 'user_type', 'image_top_1', 'size', 'width',\n",
       "       'height', 'brightness', 'average_red', 'average_green', 'average_blue',\n",
       "       'blurrness', 'region_en', 'parent_category_name_en', 'category_name_en',\n",
       "       'image_dummy', 'price_dummy', 'day of week', 'month', 'title_num',\n",
       "       'describe_num', 'seq_group15', 'param_1_english', 'param_2_english',\n",
       "       'param_3_english'],\n",
       "      dtype='object')"
      ]
     },
     "execution_count": 12,
     "metadata": {},
     "output_type": "execute_result"
    }
   ],
   "source": [
    "newtest.columns"
   ]
  },
  {
   "cell_type": "code",
   "execution_count": 13,
   "metadata": {},
   "outputs": [],
   "source": [
    "newtrain_train=newtrain_train.drop(newtrain_train.columns[23:], axis=1)"
   ]
  },
  {
   "cell_type": "code",
   "execution_count": 14,
   "metadata": {},
   "outputs": [],
   "source": [
    "newtrain_validate=newtrain_validate.drop(newtrain_validate.columns[23:], axis=1)"
   ]
  },
  {
   "cell_type": "code",
   "execution_count": 15,
   "metadata": {},
   "outputs": [],
   "source": [
    "newtest=newtest.drop(newtest.columns[22:], axis=1)"
   ]
  },
  {
   "cell_type": "code",
   "execution_count": null,
   "metadata": {},
   "outputs": [],
   "source": []
  },
  {
   "cell_type": "code",
   "execution_count": 2,
   "metadata": {},
   "outputs": [],
   "source": [
    "import time         # for timers\n",
    "import h2o\n",
    "from h2o.estimators.glm import H2OGeneralizedLinearEstimator\n",
    "from h2o.estimators.gbm import H2OGradientBoostingEstimator \n",
    "from h2o.estimators.random_forest import H2ORandomForestEstimator\n",
    "from h2o.grid.grid_search import H2OGridSearch\n",
    "from h2o.estimators.xgboost import H2OXGBoostEstimator\n",
    "from h2o.estimators.stackedensemble import H2OStackedEnsembleEstimator"
   ]
  },
  {
   "cell_type": "code",
   "execution_count": 102,
   "metadata": {
    "scrolled": true
   },
   "outputs": [
    {
     "name": "stdout",
     "output_type": "stream",
     "text": [
      "Checking whether there is an H2O instance running at http://localhost:54321..... not found.\n",
      "Attempting to start a local H2O server...\n",
      "; OpenJDK 64-Bit Server VM (Zulu 8.20.0.5-win64) (build 25.121-b15, mixed mode)\n",
      "  Starting server from C:\\Users\\wchen\\AppData\\Local\\Continuum\\anaconda3\\lib\\site-packages\\h2o\\backend\\bin\\h2o.jar\n",
      "  Ice root: C:\\Users\\wchen\\AppData\\Local\\Temp\\tmp7n9dfhch\n",
      "  JVM stdout: C:\\Users\\wchen\\AppData\\Local\\Temp\\tmp7n9dfhch\\h2o_wchen_started_from_python.out\n",
      "  JVM stderr: C:\\Users\\wchen\\AppData\\Local\\Temp\\tmp7n9dfhch\\h2o_wchen_started_from_python.err\n",
      "  Server is running at http://127.0.0.1:54321\n",
      "Connecting to H2O server at http://127.0.0.1:54321... successful.\n"
     ]
    },
    {
     "data": {
      "text/html": [
       "<div style=\"overflow:auto\"><table style=\"width:50%\"><tr><td>H2O cluster uptime:</td>\n",
       "<td>10 secs</td></tr>\n",
       "<tr><td>H2O cluster timezone:</td>\n",
       "<td>America/New_York</td></tr>\n",
       "<tr><td>H2O data parsing timezone:</td>\n",
       "<td>UTC</td></tr>\n",
       "<tr><td>H2O cluster version:</td>\n",
       "<td>3.20.0.1</td></tr>\n",
       "<tr><td>H2O cluster version age:</td>\n",
       "<td>22 days </td></tr>\n",
       "<tr><td>H2O cluster name:</td>\n",
       "<td>H2O_from_python_wchen_edtzvv</td></tr>\n",
       "<tr><td>H2O cluster total nodes:</td>\n",
       "<td>1</td></tr>\n",
       "<tr><td>H2O cluster free memory:</td>\n",
       "<td>1.740 Gb</td></tr>\n",
       "<tr><td>H2O cluster total cores:</td>\n",
       "<td>4</td></tr>\n",
       "<tr><td>H2O cluster allowed cores:</td>\n",
       "<td>4</td></tr>\n",
       "<tr><td>H2O cluster status:</td>\n",
       "<td>accepting new members, healthy</td></tr>\n",
       "<tr><td>H2O connection url:</td>\n",
       "<td>http://127.0.0.1:54321</td></tr>\n",
       "<tr><td>H2O connection proxy:</td>\n",
       "<td>None</td></tr>\n",
       "<tr><td>H2O internal security:</td>\n",
       "<td>False</td></tr>\n",
       "<tr><td>H2O API Extensions:</td>\n",
       "<td>Algos, AutoML, Core V3, Core V4</td></tr>\n",
       "<tr><td>Python version:</td>\n",
       "<td>3.6.4 final</td></tr></table></div>"
      ],
      "text/plain": [
       "--------------------------  -------------------------------\n",
       "H2O cluster uptime:         10 secs\n",
       "H2O cluster timezone:       America/New_York\n",
       "H2O data parsing timezone:  UTC\n",
       "H2O cluster version:        3.20.0.1\n",
       "H2O cluster version age:    22 days\n",
       "H2O cluster name:           H2O_from_python_wchen_edtzvv\n",
       "H2O cluster total nodes:    1\n",
       "H2O cluster free memory:    1.740 Gb\n",
       "H2O cluster total cores:    4\n",
       "H2O cluster allowed cores:  4\n",
       "H2O cluster status:         accepting new members, healthy\n",
       "H2O connection url:         http://127.0.0.1:54321\n",
       "H2O connection proxy:\n",
       "H2O internal security:      False\n",
       "H2O API Extensions:         Algos, AutoML, Core V3, Core V4\n",
       "Python version:             3.6.4 final\n",
       "--------------------------  -------------------------------"
      ]
     },
     "metadata": {},
     "output_type": "display_data"
    }
   ],
   "source": [
    "h2o.init()"
   ]
  },
  {
   "cell_type": "code",
   "execution_count": 103,
   "metadata": {},
   "outputs": [
    {
     "name": "stdout",
     "output_type": "stream",
     "text": [
      "Parse progress: |█████████████████████████████████████████████████████████| 100%\n"
     ]
    }
   ],
   "source": [
    "test = \"C:/Users/wchen/Downloads/test_df.csv\"\n",
    "test_df = h2o.import_file(path=test)"
   ]
  },
  {
   "cell_type": "code",
   "execution_count": 104,
   "metadata": {},
   "outputs": [
    {
     "name": "stdout",
     "output_type": "stream",
     "text": [
      "Parse progress: |█████████████████████████████████████████████████████████| 100%\n"
     ]
    }
   ],
   "source": [
    "train = \"C:/Users/wchen/Downloads/train_df.csv\"\n",
    "train_df = h2o.import_file(path=train)"
   ]
  },
  {
   "cell_type": "code",
   "execution_count": 105,
   "metadata": {},
   "outputs": [
    {
     "name": "stdout",
     "output_type": "stream",
     "text": [
      "Parse progress: |█████████████████████████████████████████████████████████| 100%\n"
     ]
    }
   ],
   "source": [
    "valid = \"C:/Users/wchen/Downloads/validate_df.csv\"\n",
    "validate_df = h2o.import_file(path=valid)"
   ]
  },
  {
   "cell_type": "code",
   "execution_count": 41,
   "metadata": {},
   "outputs": [
    {
     "name": "stdout",
     "output_type": "stream",
     "text": [
      "Parse progress: |█████████████████████████████████████████████████████████| 100%\n",
      "Parse progress: |█████████████████████████████████████████████████████████| 100%\n",
      "Parse progress: |█████████████████████████████████████████████████████████| 100%\n"
     ]
    }
   ],
   "source": [
    "train_df = h2o.H2OFrame(newtrain_train)\n",
    "validate_df = h2o.H2OFrame(newtrain_validate)\n",
    "test_df = h2o.H2OFrame(newtest)"
   ]
  },
  {
   "cell_type": "code",
   "execution_count": 106,
   "metadata": {},
   "outputs": [],
   "source": [
    "import re\n",
    "import time\n",
    "\n",
    "def gen_submission(preds, test=test_df):\n",
    "\n",
    "    \"\"\" Generates submission file for Kaggle House Prices contest.\n",
    "    \n",
    "    :param preds: Column vector of predictions.\n",
    "    :param test: Test data.\n",
    "    \n",
    "    \"\"\"\n",
    "    \n",
    "    # create time stamp\n",
    "    time_stamp = re.sub('[: ]', '_', time.asctime())\n",
    "\n",
    "    # create predictions column\n",
    "    sub = test_df['item_id'].cbind(preds)\n",
    "    sub.columns = ['item_id', 'deal_probability']\n",
    "    \n",
    "    # save file for submission\n",
    "    sub_fname = '../Downloads/submission_' + str(time_stamp) + '.csv'\n",
    "    h2o.download_csv(sub, sub_fname)"
   ]
  },
  {
   "cell_type": "code",
   "execution_count": 107,
   "metadata": {},
   "outputs": [],
   "source": [
    "train_df['image_top_1']=train_df['image_top_1'].asfactor()\n",
    "train_df['day of week']=train_df['day of week'].asfactor()\n",
    "train_df['month']=train_df['month'].asfactor()"
   ]
  },
  {
   "cell_type": "code",
   "execution_count": 108,
   "metadata": {},
   "outputs": [],
   "source": [
    "validate_df['image_top_1']=validate_df['image_top_1'].asfactor()\n",
    "validate_df['day of week']=validate_df['day of week'].asfactor()\n",
    "validate_df['month']=validate_df['month'].asfactor()"
   ]
  },
  {
   "cell_type": "code",
   "execution_count": 109,
   "metadata": {},
   "outputs": [],
   "source": [
    "test_df['image_top_1']=test_df['image_top_1'].asfactor()\n",
    "test_df['day of week']=test_df['day of week'].asfactor()\n",
    "test_df['month']=test_df['month'].asfactor()"
   ]
  },
  {
   "cell_type": "code",
   "execution_count": 110,
   "metadata": {},
   "outputs": [],
   "source": [
    "y = 'deal_probability'\n",
    "X = [name for name in train_df.columns if name not in [y]]"
   ]
  },
  {
   "cell_type": "code",
   "execution_count": 111,
   "metadata": {},
   "outputs": [],
   "source": [
    "X.remove('item_id')"
   ]
  },
  {
   "cell_type": "code",
   "execution_count": 112,
   "metadata": {},
   "outputs": [],
   "source": [
    "X.remove('param_1_english')\n"
   ]
  },
  {
   "cell_type": "code",
   "execution_count": 113,
   "metadata": {},
   "outputs": [],
   "source": [
    "X.remove('param_2_english')"
   ]
  },
  {
   "cell_type": "code",
   "execution_count": 114,
   "metadata": {},
   "outputs": [],
   "source": [
    "X.remove('param_3_english')"
   ]
  },
  {
   "cell_type": "code",
   "execution_count": 115,
   "metadata": {},
   "outputs": [
    {
     "name": "stdout",
     "output_type": "stream",
     "text": [
      "deal_probability\n",
      "['price', 'user_type', 'image_top_1', 'size', 'width', 'height', 'brightness', 'average_red', 'average_green', 'average_blue', 'blurrness', 'region_en', 'parent_category_name_en', 'category_name_en', 'image_dummy', 'price_dummy', 'day of week', 'month', 'title_num', 'describe_num', 'seq_group15', 'count']\n"
     ]
    }
   ],
   "source": [
    "print(y)\n",
    "print(X)"
   ]
  },
  {
   "cell_type": "code",
   "execution_count": 37,
   "metadata": {},
   "outputs": [
    {
     "name": "stdout",
     "output_type": "stream",
     "text": [
      "glm Model Build progress: |███████████████████████████████████████████████| 100%\n",
      "Model Details\n",
      "=============\n",
      "H2OGeneralizedLinearEstimator :  Generalized Linear Modeling\n",
      "Model Key:  GLM_model_python_1530279005094_3\n",
      "\n",
      "\n",
      "ModelMetricsRegressionGLM: glm\n",
      "** Reported on train data. **\n",
      "\n",
      "MSE: 0.05377974657726605\n",
      "RMSE: 0.23190460663226603\n",
      "MAE: 0.15789858646742716\n",
      "RMSLE: 0.17300348291796272\n",
      "R^2: 0.20450700337727123\n",
      "Mean Residual Deviance: 0.05377974657726605\n",
      "Null degrees of freedom: 1052395\n",
      "Residual degrees of freedom: 1052158\n",
      "Null deviance: 71147.81703820138\n",
      "Residual deviance: 56597.59017892848\n",
      "AIC: -88955.95278479448\n",
      "\n",
      "ModelMetricsRegressionGLM: glm\n",
      "** Reported on validation data. **\n",
      "\n",
      "MSE: 0.05395952109298474\n",
      "RMSE: 0.2322918877037783\n",
      "MAE: 0.15824896985473505\n",
      "RMSLE: 0.17332003560157763\n",
      "R^2: 0.20323187607177773\n",
      "Mean Residual Deviance: 0.05395952109298474\n",
      "Null degrees of freedom: 451027\n",
      "Residual degrees of freedom: 450790\n",
      "Null deviance: 30544.975257034417\n",
      "Residual deviance: 24337.25487952672\n",
      "AIC: -36345.75551295818\n",
      "\n",
      "ModelMetricsRegressionGLM: glm\n",
      "** Reported on cross-validation data. **\n",
      "\n",
      "MSE: 0.05399061000814609\n",
      "RMSE: 0.23235879584845953\n",
      "MAE: 0.15825634589113333\n",
      "RMSLE: 0.17335867456677673\n",
      "R^2: 0.2013879782203828\n",
      "Mean Residual Deviance: 0.05399061000814609\n",
      "Null degrees of freedom: 1052395\n",
      "Residual degrees of freedom: 1050627\n",
      "Null deviance: 71148.07340245141\n",
      "Residual deviance: 56819.502010132914\n",
      "AIC: -81775.71245570097\n",
      "Cross-Validation Metrics Summary: \n"
     ]
    },
    {
     "data": {
      "text/html": [
       "<div style=\"overflow:auto\"><table style=\"width:50%\"><tr><td><b></b></td>\n",
       "<td><b>mean</b></td>\n",
       "<td><b>sd</b></td>\n",
       "<td><b>cv_1_valid</b></td>\n",
       "<td><b>cv_2_valid</b></td>\n",
       "<td><b>cv_3_valid</b></td>\n",
       "<td><b>cv_4_valid</b></td>\n",
       "<td><b>cv_5_valid</b></td></tr>\n",
       "<tr><td>mae</td>\n",
       "<td>0.1581442</td>\n",
       "<td>0.0001633</td>\n",
       "<td>0.1577060</td>\n",
       "<td>0.1581326</td>\n",
       "<td>0.1583067</td>\n",
       "<td>0.1582287</td>\n",
       "<td>0.1583467</td></tr>\n",
       "<tr><td>mean_residual_deviance</td>\n",
       "<td>0.0539425</td>\n",
       "<td>0.0001231</td>\n",
       "<td>0.0536916</td>\n",
       "<td>0.0538367</td>\n",
       "<td>0.0541810</td>\n",
       "<td>0.0539194</td>\n",
       "<td>0.0540839</td></tr>\n",
       "<tr><td>mse</td>\n",
       "<td>0.0539425</td>\n",
       "<td>0.0001231</td>\n",
       "<td>0.0536916</td>\n",
       "<td>0.0538367</td>\n",
       "<td>0.0541810</td>\n",
       "<td>0.0539194</td>\n",
       "<td>0.0540839</td></tr>\n",
       "<tr><td>null_deviance</td>\n",
       "<td>14229.614</td>\n",
       "<td>44.740883</td>\n",
       "<td>14157.317</td>\n",
       "<td>14156.285</td>\n",
       "<td>14294.602</td>\n",
       "<td>14238.803</td>\n",
       "<td>14301.067</td></tr>\n",
       "<tr><td>r2</td>\n",
       "<td>0.2020890</td>\n",
       "<td>0.0010544</td>\n",
       "<td>0.2017493</td>\n",
       "<td>0.1995269</td>\n",
       "<td>0.2022060</td>\n",
       "<td>0.2029591</td>\n",
       "<td>0.2040038</td></tr>\n",
       "<tr><td>residual_deviance</td>\n",
       "<td>11353.779</td>\n",
       "<td>25.898746</td>\n",
       "<td>11301.013</td>\n",
       "<td>11331.497</td>\n",
       "<td>11403.965</td>\n",
       "<td>11348.906</td>\n",
       "<td>11383.518</td></tr>\n",
       "<tr><td>rmse</td>\n",
       "<td>0.232255</td>\n",
       "<td>0.0002650</td>\n",
       "<td>0.2317145</td>\n",
       "<td>0.2320274</td>\n",
       "<td>0.2327682</td>\n",
       "<td>0.2322056</td>\n",
       "<td>0.2325594</td></tr>\n",
       "<tr><td>rmsle</td>\n",
       "<td>0.1732915</td>\n",
       "<td>0.0001373</td>\n",
       "<td>0.1729706</td>\n",
       "<td>0.1732480</td>\n",
       "<td>0.1735408</td>\n",
       "<td>0.1732626</td>\n",
       "<td>0.1734355</td></tr></table></div>"
      ],
      "text/plain": [
       "                        mean       sd           cv_1_valid    cv_2_valid    cv_3_valid    cv_4_valid    cv_5_valid\n",
       "----------------------  ---------  -----------  ------------  ------------  ------------  ------------  ------------\n",
       "mae                     0.158144   0.000163304  0.157706      0.158133      0.158307      0.158229      0.158347\n",
       "mean_residual_deviance  0.0539425  0.000123099  0.0536916     0.0538367     0.054181      0.0539194     0.0540839\n",
       "mse                     0.0539425  0.000123099  0.0536916     0.0538367     0.054181      0.0539194     0.0540839\n",
       "null_deviance           14229.6    44.7409      14157.3       14156.3       14294.6       14238.8       14301.1\n",
       "r2                      0.202089   0.00105437   0.201749      0.199527      0.202206      0.202959      0.204004\n",
       "residual_deviance       11353.8    25.8987      11301         11331.5       11404         11348.9       11383.5\n",
       "rmse                    0.232255   0.000265013  0.231715      0.232027      0.232768      0.232206      0.232559\n",
       "rmsle                   0.173291   0.000137329  0.172971      0.173248      0.173541      0.173263      0.173436"
      ]
     },
     "metadata": {},
     "output_type": "display_data"
    },
    {
     "name": "stdout",
     "output_type": "stream",
     "text": [
      "Scoring History: \n"
     ]
    },
    {
     "data": {
      "text/html": [
       "<div style=\"overflow:auto\"><table style=\"width:50%\"><tr><td><b></b></td>\n",
       "<td><b>timestamp</b></td>\n",
       "<td><b>duration</b></td>\n",
       "<td><b>iteration</b></td>\n",
       "<td><b>lambda</b></td>\n",
       "<td><b>predictors</b></td>\n",
       "<td><b>deviance_train</b></td>\n",
       "<td><b>deviance_test</b></td>\n",
       "<td><b>deviance_xval</b></td>\n",
       "<td><b>deviance_se</b></td></tr>\n",
       "<tr><td></td>\n",
       "<td>2018-06-29 09:52:28</td>\n",
       "<td> 0.000 sec</td>\n",
       "<td>1</td>\n",
       "<td>.7E-1</td>\n",
       "<td>1</td>\n",
       "<td>0.0676056</td>\n",
       "<td>0.0677230</td>\n",
       "<td>0.0676058</td>\n",
       "<td>0.0001503</td></tr>\n",
       "<tr><td></td>\n",
       "<td>2018-06-29 09:52:28</td>\n",
       "<td> 0.120 sec</td>\n",
       "<td>2</td>\n",
       "<td>.64E-1</td>\n",
       "<td>2</td>\n",
       "<td>0.0674097</td>\n",
       "<td>0.0675299</td>\n",
       "<td>0.0676056</td>\n",
       "<td>0.0001504</td></tr>\n",
       "<tr><td></td>\n",
       "<td>2018-06-29 09:52:28</td>\n",
       "<td> 0.228 sec</td>\n",
       "<td>3</td>\n",
       "<td>.58E-1</td>\n",
       "<td>2</td>\n",
       "<td>0.0672384</td>\n",
       "<td>0.0673611</td>\n",
       "<td>0.0676056</td>\n",
       "<td>0.0001504</td></tr>\n",
       "<tr><td></td>\n",
       "<td>2018-06-29 09:52:28</td>\n",
       "<td> 0.337 sec</td>\n",
       "<td>4</td>\n",
       "<td>.53E-1</td>\n",
       "<td>3</td>\n",
       "<td>0.0669406</td>\n",
       "<td>0.0670638</td>\n",
       "<td>0.0674849</td>\n",
       "<td>0.0001532</td></tr>\n",
       "<tr><td></td>\n",
       "<td>2018-06-29 09:52:28</td>\n",
       "<td> 0.447 sec</td>\n",
       "<td>5</td>\n",
       "<td>.48E-1</td>\n",
       "<td>3</td>\n",
       "<td>0.0664906</td>\n",
       "<td>0.0666118</td>\n",
       "<td>0.0673045</td>\n",
       "<td>0.0001515</td></tr>\n",
       "<tr><td>---</td>\n",
       "<td>---</td>\n",
       "<td>---</td>\n",
       "<td>---</td>\n",
       "<td>---</td>\n",
       "<td>---</td>\n",
       "<td>---</td>\n",
       "<td>---</td>\n",
       "<td>---</td>\n",
       "<td>---</td></tr>\n",
       "<tr><td></td>\n",
       "<td>2018-06-29 09:52:55</td>\n",
       "<td>26.825 sec</td>\n",
       "<td>96</td>\n",
       "<td>.1E-4</td>\n",
       "<td>1617</td>\n",
       "<td>0.0538851</td>\n",
       "<td>0.0540430</td>\n",
       "<td>0.0540274</td>\n",
       "<td>0.0000792</td></tr>\n",
       "<tr><td></td>\n",
       "<td>2018-06-29 09:52:55</td>\n",
       "<td>27.340 sec</td>\n",
       "<td>97</td>\n",
       "<td>.93E-5</td>\n",
       "<td>1715</td>\n",
       "<td>0.0538567</td>\n",
       "<td>0.0540200</td>\n",
       "<td>0.0540016</td>\n",
       "<td>0.0000785</td></tr>\n",
       "<tr><td></td>\n",
       "<td>2018-06-29 09:52:56</td>\n",
       "<td>27.901 sec</td>\n",
       "<td>98</td>\n",
       "<td>.84E-5</td>\n",
       "<td>1812</td>\n",
       "<td>0.0538064</td>\n",
       "<td>0.0539801</td>\n",
       "<td>0.0539986</td>\n",
       "<td>0.0000869</td></tr>\n",
       "<tr><td></td>\n",
       "<td>2018-06-29 09:52:56</td>\n",
       "<td>28.483 sec</td>\n",
       "<td>99</td>\n",
       "<td>.77E-5</td>\n",
       "<td>1931</td>\n",
       "<td>0.0537797</td>\n",
       "<td>0.0539595</td>\n",
       "<td>0.0539906</td>\n",
       "<td>0.0000718</td></tr>\n",
       "<tr><td></td>\n",
       "<td>2018-06-29 09:52:57</td>\n",
       "<td>29.135 sec</td>\n",
       "<td>100</td>\n",
       "<td>.7E-5</td>\n",
       "<td>2029</td>\n",
       "<td>0.0537541</td>\n",
       "<td>0.0539401</td>\n",
       "<td>0.0</td>\n",
       "<td>0.0</td></tr></table></div>"
      ],
      "text/plain": [
       "     timestamp            duration    iteration    lambda    predictors    deviance_train        deviance_test         deviance_xval         deviance_se\n",
       "---  -------------------  ----------  -----------  --------  ------------  --------------------  --------------------  --------------------  ----------------------\n",
       "     2018-06-29 09:52:28  0.000 sec   1            .7E-1     1             0.0676055564918488    0.06772301351825145   0.06760580041897962   0.00015034406995777954\n",
       "     2018-06-29 09:52:28  0.120 sec   2            .64E-1    2             0.06740974229438075   0.06752985698113351   0.06760555681840497   0.00015035984324166923\n",
       "     2018-06-29 09:52:28  0.228 sec   3            .58E-1    2             0.06723844997509068   0.06736109860808295   0.06760555681840497   0.00015035984324166923\n",
       "     2018-06-29 09:52:28  0.337 sec   4            .53E-1    3             0.06694061052375715   0.06706379109945816   0.0674849308994347    0.00015324484689301096\n",
       "     2018-06-29 09:52:28  0.447 sec   5            .48E-1    3             0.06649063882343996   0.06661178312951009   0.06730449998082685   0.00015150586788134073\n",
       "---  ---                  ---         ---          ---       ---           ---                   ---                   ---                   ---\n",
       "     2018-06-29 09:52:55  26.825 sec  96           .1E-4     1617          0.053885112317497076  0.054042955976378135  0.05402740646411699   7.920552461984255e-05\n",
       "     2018-06-29 09:52:55  27.340 sec  97           .93E-5    1715          0.053856729634782816  0.054020003661851654  0.054001601416402964  7.854070515668511e-05\n",
       "     2018-06-29 09:52:56  27.901 sec  98           .84E-5    1812          0.053806369393550144  0.05398006476217136   0.05399864753817318   8.688882307865598e-05\n",
       "     2018-06-29 09:52:56  28.483 sec  99           .77E-5    1931          0.05377974688809484   0.053959521408345125  0.0539906104943992    7.178186321487155e-05\n",
       "     2018-06-29 09:52:57  29.135 sec  100          .7E-5     2029          0.053754054474104355  0.05394006539516852   0.0                   0.0"
      ]
     },
     "metadata": {},
     "output_type": "display_data"
    },
    {
     "name": "stdout",
     "output_type": "stream",
     "text": [
      "\n",
      "See the whole table with table.as_data_frame()\n"
     ]
    },
    {
     "data": {
      "text/plain": []
     },
     "execution_count": 37,
     "metadata": {},
     "output_type": "execute_result"
    }
   ],
   "source": [
    "# elastic net regularized regression \n",
    "#   - Gaussian family, i.e. squared loss, for linear regression\n",
    "#   - L1 for variable selection\n",
    "#   - L2 for handling multicollinearity\n",
    "#   - IRLS for handling outliers\n",
    "#   - with lamba parameter tuning for variable selection\n",
    "\n",
    "# initialize\n",
    "glm_model1 = H2OGeneralizedLinearEstimator(family='gaussian',\n",
    "                                         solver='IRLSM',\n",
    "                                         standardize=True,\n",
    "                                         lambda_search=True,\n",
    "                                         nfolds=5,\n",
    "                                         fold_assignment='Modulo',\n",
    "                                         keep_cross_validation_predictions=True)\n",
    "\n",
    "# train \n",
    "glm_model1.train(X, y, training_frame=train_df, validation_frame=validate_df)\n",
    "\n",
    "# print trained model info\n",
    "glm_model1\n",
    "\n",
    "# view detailed results at http://host:ip/flow/index.html"
   ]
  },
  {
   "cell_type": "code",
   "execution_count": 38,
   "metadata": {
    "scrolled": true
   },
   "outputs": [
    {
     "name": "stdout",
     "output_type": "stream",
     "text": [
      "0.23190460663226603\n"
     ]
    }
   ],
   "source": [
    "print(glm_model1.rmse(train=True))"
   ]
  },
  {
   "cell_type": "code",
   "execution_count": 39,
   "metadata": {},
   "outputs": [
    {
     "name": "stdout",
     "output_type": "stream",
     "text": [
      "0.2322918877037783\n"
     ]
    }
   ],
   "source": [
    "print(glm_model1.rmse(valid=True))"
   ]
  },
  {
   "cell_type": "code",
   "execution_count": 40,
   "metadata": {},
   "outputs": [],
   "source": [
    "# save the model\n",
    "model_path = h2o.save_model(model=glm_model1, path= \"C:/Users/wchen/Desktop/models\", force=True)"
   ]
  },
  {
   "cell_type": "code",
   "execution_count": 41,
   "metadata": {
    "scrolled": true
   },
   "outputs": [
    {
     "name": "stdout",
     "output_type": "stream",
     "text": [
      "glm prediction progress: |████████████████████████████████████████████████| 100%\n"
     ]
    },
    {
     "name": "stderr",
     "output_type": "stream",
     "text": [
      "C:\\Users\\wchen\\AppData\\Local\\Continuum\\anaconda3\\lib\\site-packages\\h2o\\job.py:69: UserWarning: Test/Validation dataset column 'image_top_1' has levels not trained on: [200, 614]\n",
      "  warnings.warn(w)\n",
      "C:\\Users\\wchen\\AppData\\Local\\Continuum\\anaconda3\\lib\\site-packages\\h2o\\job.py:69: UserWarning: Test/Validation dataset column 'param_3_english' has levels not trained on: [110, 146, 2018-09-03 00:00:00, 2018-09-05 00:00:00, 2136, 2335, 240, 26th, 27th, 3000 GT, 3153, 353, 40-42 (XS), 402, 42-44 (S), 44-46 (M), 44-46 (S), 452 Loaf of bread, 46-48 (M), 48-50 (XL), 4Runner, 4x4 (Niva), 5 series GT, 50-52 (XL), 50-56 cm (0-2 months), 62-68 cm (2-6 months), 6th, 74-80 cm (7-12 months), 760, 7th, 8, <19, <35, <40, > 50 (XXL), AD, ATS, Accord, Ace, Aerio, Airwave, Altezza, Altima, Antara, Aristo, Atrai, Avante, Avenir, Axela, B5, Biante, Bora, Brevis, C-3d, CL, CLA class, Cami, Capa, Capella, Caprice, Carisma, Cayman, Cebrium (720), Celsior, Chariot, Clarus, Clio RS, Concorde, Cooper S Clubman, Corda, Corona, Corsa, Corsica, Coupe, Cresta, Creta, Cronos, Crossfire, Damas, Diamante, Domani, Ducato, EK Wagon, ES, Echo, Escalade, Escudo, Espero, Estima, Estonia, Eterna, Express, Familia, Festiva, Fiesta, Fora (A21), Frontera, Fuego, Fuga, G90, GLC class AMG, GLE-class AMG, GLS class, GTO, Gloria, Granada, Grand caravan, Grandeur, Gratour, H230, H6, Hijet, Ignis, Impala, Impreza, Ipsum, Isis, Ist, Istana, Joice, Kadett, Kappa, Kaptur, Kei, Kluger, Korando, Kuga, Lancer, Largo, Largus, Lavita, Legend, Libero, Linea, Lumina, Lupo, M-20 Victory, M25, MAX, MR-S, Macan Turbo, Magnum, Marea, Metro, Mira, Mobilio, Mokka, Montero, Move, Mustang, Note:, Opa, Passat, Passat CC, Passo, Platz, Porte, Porter, Premio, Previa, Primera, Princip, Priora, Protege, Pulsar, Puma, Punto, Quest, R8, RS Q3, RS7, Rafaga, Raum, Regius, Rekord, Reno, Retona, Rio, Rodius, S6, S60, SQ5, Saber, Sambar, Santa fe, Saratoga, Sauvana, Sceo, Scudo, Sens, Sentia, Simbir, Sprinter Carib, Stealth, Storia, Tager, Tagora, Tercel, Tipo, Torneo, Trafic, Trans Sport, V8, VUE, Vario, Venga, Vento, Verisa, Verso, Vida, View CS2, Vista, Vita, Viva, Vortex Corda, Vortex Tingo, Voyager, WAY M1, X5 M, XK, Ypsilon, iQ, mi-DO, thirty]\n",
      "  warnings.warn(w)\n",
      "C:\\Users\\wchen\\AppData\\Local\\Continuum\\anaconda3\\lib\\site-packages\\h2o\\job.py:69: UserWarning: Test/Validation dataset column 'param_1_english' has levels not trained on: [Advertising, printing, BMX, Balinez, Basenji, Bull Terrier, Children's, Children's furniture, Chow Chow, Erdelterer, Fox terrier, Gramplants, GroÃŸhneÃŸauser, He-Ð¿ÑƒÐ´ÐµÐ»ÑŒ, Kinder Surprise, Me I group, Men's Clothing, Mittelshnhauser, Motor home, Rautweiler, Rise sounder, Sameday's chamomile, Shelty, The Urals Rex, Turkish angora, Welsh terrier, Women's clothing, Yagdterrier, pei, Ð“Ð¸Ð´Ñ€Ð¾Ñ†Ð¸ÐºÐ»Ñ‹, ÐœÐ°Ñ�Ñ‚Ð¸Ñ„]\n",
      "  warnings.warn(w)\n",
      "C:\\Users\\wchen\\AppData\\Local\\Continuum\\anaconda3\\lib\\site-packages\\h2o\\job.py:69: UserWarning: Test/Validation dataset column 'param_2_english' has levels not trained on: [Alpina, GAC, Haval, SMZ, Shavers & Trimmers, Shuanghuan, Talbot, Wartburg, Ð’Ð�Ð— (LADA), Ð ÐµÐ¼Ð¾Ð½Ñ‚ Ð¾Ñ„Ð¸Ñ�Ð°]\n",
      "  warnings.warn(w)\n"
     ]
    }
   ],
   "source": [
    "glm_model_test1 = glm_model1.predict(test_df)\n",
    "gen_submission(glm_model_test1)"
   ]
  },
  {
   "cell_type": "markdown",
   "metadata": {},
   "source": [
    "### 2. Random Forest"
   ]
  },
  {
   "cell_type": "markdown",
   "metadata": {},
   "source": [
    "### 3. ERT"
   ]
  },
  {
   "cell_type": "code",
   "execution_count": 32,
   "metadata": {},
   "outputs": [
    {
     "name": "stdout",
     "output_type": "stream",
     "text": [
      "drf Grid Build progress: |████████████████████████████████████████████████| 100%\n"
     ]
    }
   ],
   "source": [
    "# ERT with random hyperparameter search\n",
    "# train many different RF models with random hyperparameters\n",
    "# and select best model based on validation error\n",
    "\n",
    "# define random grid search parameters\n",
    "hyper_parameters = {'ntrees':list(range(0, 500, 50)),\n",
    "                    'max_depth':list(range(0, 20, 2))}\n",
    "\n",
    "# define search strategy\n",
    "search_criteria = {'strategy':'RandomDiscrete',\n",
    "                   'max_models':20,\n",
    "                   'max_runtime_secs':1800}\n",
    "\n",
    "ertsearch = H2OGridSearch(model=H2ORandomForestEstimator(nfolds=5,fold_assignment='Modulo',keep_cross_validation_predictions=True,histogram_type='random'),\n",
    "                        hyper_params=hyper_parameters,\n",
    "                        search_criteria=search_criteria)\n",
    "\n",
    "ertsearch.train(x=X,\n",
    "              y=y,\n",
    "              training_frame=train_df,\n",
    "              validation_frame=validate_df,\n",
    "              stopping_rounds=10)"
   ]
  },
  {
   "cell_type": "code",
   "execution_count": 33,
   "metadata": {},
   "outputs": [
    {
     "name": "stdout",
     "output_type": "stream",
     "text": [
      "    max_depth ntrees  \\\n",
      "0           8    348   \n",
      "1          18      0   \n",
      "\n",
      "                                                     model_ids  \\\n",
      "0  Grid_DRF_py_3_sid_b726_model_python_1530125209496_3_model_1   \n",
      "1  Grid_DRF_py_3_sid_b726_model_python_1530125209496_3_model_0   \n",
      "\n",
      "     residual_deviance  \n",
      "0  0.05807494860078983  \n",
      "1  0.08695061512881257  \n",
      "Model Details\n",
      "=============\n",
      "H2ORandomForestEstimator :  Distributed Random Forest\n",
      "Model Key:  Grid_DRF_py_3_sid_b726_model_python_1530125209496_3_model_1\n",
      "\n",
      "\n",
      "ModelMetricsRegression: drf\n",
      "** Reported on train data. **\n",
      "\n",
      "MSE: 0.05806658278131296\n",
      "RMSE: 0.24097008690149274\n",
      "MAE: 0.16800827967580556\n",
      "RMSLE: 0.17862223426049073\n",
      "Mean Residual Deviance: 0.05806658278131296\n",
      "\n",
      "ModelMetricsRegression: drf\n",
      "** Reported on validation data. **\n",
      "\n",
      "MSE: 0.05818575758167663\n",
      "RMSE: 0.2412172414685083\n",
      "MAE: 0.16822178111965558\n",
      "RMSLE: 0.17876275627233545\n",
      "Mean Residual Deviance: 0.05818575758167663\n",
      "\n",
      "ModelMetricsRegression: drf\n",
      "** Reported on cross-validation data. **\n",
      "\n",
      "MSE: 0.05807494860078983\n",
      "RMSE: 0.24098744490282026\n",
      "MAE: 0.168035018633615\n",
      "RMSLE: 0.1786232457661091\n",
      "Mean Residual Deviance: 0.05807494860078983\n",
      "Cross-Validation Metrics Summary: \n"
     ]
    },
    {
     "data": {
      "text/html": [
       "<div style=\"overflow:auto\"><table style=\"width:50%\"><tr><td><b></b></td>\n",
       "<td><b>mean</b></td>\n",
       "<td><b>sd</b></td>\n",
       "<td><b>cv_1_valid</b></td>\n",
       "<td><b>cv_2_valid</b></td>\n",
       "<td><b>cv_3_valid</b></td>\n",
       "<td><b>cv_4_valid</b></td>\n",
       "<td><b>cv_5_valid</b></td></tr>\n",
       "<tr><td>mae</td>\n",
       "<td>0.1680350</td>\n",
       "<td>0.0002943</td>\n",
       "<td>0.1679868</td>\n",
       "<td>0.1678641</td>\n",
       "<td>0.1688066</td>\n",
       "<td>0.167551</td>\n",
       "<td>0.1679666</td></tr>\n",
       "<tr><td>mean_residual_deviance</td>\n",
       "<td>0.0580749</td>\n",
       "<td>0.0001799</td>\n",
       "<td>0.0577981</td>\n",
       "<td>0.0578047</td>\n",
       "<td>0.0584377</td>\n",
       "<td>0.0580543</td>\n",
       "<td>0.0582799</td></tr>\n",
       "<tr><td>mse</td>\n",
       "<td>0.0580749</td>\n",
       "<td>0.0001799</td>\n",
       "<td>0.0577981</td>\n",
       "<td>0.0578047</td>\n",
       "<td>0.0584377</td>\n",
       "<td>0.0580543</td>\n",
       "<td>0.0582799</td></tr>\n",
       "<tr><td>r2</td>\n",
       "<td>0.1409674</td>\n",
       "<td>0.0006880</td>\n",
       "<td>0.1406965</td>\n",
       "<td>0.1405283</td>\n",
       "<td>0.1395276</td>\n",
       "<td>0.1418377</td>\n",
       "<td>0.1422470</td></tr>\n",
       "<tr><td>residual_deviance</td>\n",
       "<td>0.0580749</td>\n",
       "<td>0.0001799</td>\n",
       "<td>0.0577981</td>\n",
       "<td>0.0578047</td>\n",
       "<td>0.0584377</td>\n",
       "<td>0.0580543</td>\n",
       "<td>0.0582799</td></tr>\n",
       "<tr><td>rmse</td>\n",
       "<td>0.2409869</td>\n",
       "<td>0.0003732</td>\n",
       "<td>0.2404124</td>\n",
       "<td>0.2404261</td>\n",
       "<td>0.2417390</td>\n",
       "<td>0.2409445</td>\n",
       "<td>0.2414123</td></tr>\n",
       "<tr><td>rmsle</td>\n",
       "<td>0.1786230</td>\n",
       "<td>0.0002233</td>\n",
       "<td>0.1783304</td>\n",
       "<td>0.1783228</td>\n",
       "<td>0.1791487</td>\n",
       "<td>0.1785076</td>\n",
       "<td>0.1788053</td></tr></table></div>"
      ],
      "text/plain": [
       "                        mean       sd           cv_1_valid    cv_2_valid    cv_3_valid    cv_4_valid    cv_5_valid\n",
       "----------------------  ---------  -----------  ------------  ------------  ------------  ------------  ------------\n",
       "mae                     0.168035   0.000294251  0.167987      0.167864      0.168807      0.167551      0.167967\n",
       "mean_residual_deviance  0.0580749  0.000179914  0.0577981     0.0578047     0.0584377     0.0580543     0.0582799\n",
       "mse                     0.0580749  0.000179914  0.0577981     0.0578047     0.0584377     0.0580543     0.0582799\n",
       "r2                      0.140967   0.000688031  0.140696      0.140528      0.139528      0.141838      0.142247\n",
       "residual_deviance       0.0580749  0.000179914  0.0577981     0.0578047     0.0584377     0.0580543     0.0582799\n",
       "rmse                    0.240987   0.00037321   0.240412      0.240426      0.241739      0.240945      0.241412\n",
       "rmsle                   0.178623   0.000223303  0.17833       0.178323      0.179149      0.178508      0.178805"
      ]
     },
     "metadata": {},
     "output_type": "display_data"
    },
    {
     "name": "stdout",
     "output_type": "stream",
     "text": [
      "Scoring History: \n"
     ]
    },
    {
     "data": {
      "text/html": [
       "<div style=\"overflow:auto\"><table style=\"width:50%\"><tr><td><b></b></td>\n",
       "<td><b>timestamp</b></td>\n",
       "<td><b>duration</b></td>\n",
       "<td><b>number_of_trees</b></td>\n",
       "<td><b>training_rmse</b></td>\n",
       "<td><b>training_mae</b></td>\n",
       "<td><b>training_deviance</b></td>\n",
       "<td><b>validation_rmse</b></td>\n",
       "<td><b>validation_mae</b></td>\n",
       "<td><b>validation_deviance</b></td></tr>\n",
       "<tr><td></td>\n",
       "<td>2018-06-27 15:49:29</td>\n",
       "<td>27 min 49.388 sec</td>\n",
       "<td>0.0</td>\n",
       "<td>nan</td>\n",
       "<td>nan</td>\n",
       "<td>nan</td>\n",
       "<td>nan</td>\n",
       "<td>nan</td>\n",
       "<td>nan</td></tr>\n",
       "<tr><td></td>\n",
       "<td>2018-06-27 15:49:30</td>\n",
       "<td>27 min 50.124 sec</td>\n",
       "<td>1.0</td>\n",
       "<td>0.2441291</td>\n",
       "<td>0.1662241</td>\n",
       "<td>0.0595990</td>\n",
       "<td>0.2442330</td>\n",
       "<td>0.1663048</td>\n",
       "<td>0.0596498</td></tr>\n",
       "<tr><td></td>\n",
       "<td>2018-06-27 15:49:30</td>\n",
       "<td>27 min 50.904 sec</td>\n",
       "<td>2.0</td>\n",
       "<td>0.2447885</td>\n",
       "<td>0.1672185</td>\n",
       "<td>0.0599214</td>\n",
       "<td>0.2425704</td>\n",
       "<td>0.1663778</td>\n",
       "<td>0.0588404</td></tr>\n",
       "<tr><td></td>\n",
       "<td>2018-06-27 15:49:31</td>\n",
       "<td>27 min 51.807 sec</td>\n",
       "<td>3.0</td>\n",
       "<td>0.2455031</td>\n",
       "<td>0.1678492</td>\n",
       "<td>0.0602718</td>\n",
       "<td>0.2433647</td>\n",
       "<td>0.1670266</td>\n",
       "<td>0.0592264</td></tr>\n",
       "<tr><td></td>\n",
       "<td>2018-06-27 15:49:32</td>\n",
       "<td>27 min 52.728 sec</td>\n",
       "<td>4.0</td>\n",
       "<td>0.2452623</td>\n",
       "<td>0.1679053</td>\n",
       "<td>0.0601536</td>\n",
       "<td>0.2432325</td>\n",
       "<td>0.1671286</td>\n",
       "<td>0.0591620</td></tr>\n",
       "<tr><td></td>\n",
       "<td>2018-06-27 15:49:37</td>\n",
       "<td>27 min 57.162 sec</td>\n",
       "<td>10.0</td>\n",
       "<td>0.2426464</td>\n",
       "<td>0.1671834</td>\n",
       "<td>0.0588773</td>\n",
       "<td>0.2416964</td>\n",
       "<td>0.1669442</td>\n",
       "<td>0.0584171</td></tr>\n",
       "<tr><td></td>\n",
       "<td>2018-06-27 15:49:45</td>\n",
       "<td>28 min  5.365 sec</td>\n",
       "<td>21.0</td>\n",
       "<td>0.2420182</td>\n",
       "<td>0.1669846</td>\n",
       "<td>0.0585728</td>\n",
       "<td>0.2417308</td>\n",
       "<td>0.1670246</td>\n",
       "<td>0.0584338</td></tr>\n",
       "<tr><td></td>\n",
       "<td>2018-06-27 15:50:02</td>\n",
       "<td>28 min 22.783 sec</td>\n",
       "<td>45.0</td>\n",
       "<td>0.2412279</td>\n",
       "<td>0.1673214</td>\n",
       "<td>0.0581909</td>\n",
       "<td>0.2412678</td>\n",
       "<td>0.1674670</td>\n",
       "<td>0.0582101</td></tr>\n",
       "<tr><td></td>\n",
       "<td>2018-06-27 15:50:39</td>\n",
       "<td>28 min 59.211 sec</td>\n",
       "<td>93.0</td>\n",
       "<td>0.2410172</td>\n",
       "<td>0.1677970</td>\n",
       "<td>0.0580893</td>\n",
       "<td>0.2411539</td>\n",
       "<td>0.1679733</td>\n",
       "<td>0.0581552</td></tr>\n",
       "<tr><td></td>\n",
       "<td>2018-06-27 15:51:53</td>\n",
       "<td>30 min 13.823 sec</td>\n",
       "<td>195.0</td>\n",
       "<td>0.2410715</td>\n",
       "<td>0.1679342</td>\n",
       "<td>0.0581155</td>\n",
       "<td>0.2412559</td>\n",
       "<td>0.1681238</td>\n",
       "<td>0.0582044</td></tr>\n",
       "<tr><td></td>\n",
       "<td>2018-06-27 15:53:51</td>\n",
       "<td>32 min 11.255 sec</td>\n",
       "<td>348.0</td>\n",
       "<td>0.2409701</td>\n",
       "<td>0.1680083</td>\n",
       "<td>0.0580666</td>\n",
       "<td>0.2412172</td>\n",
       "<td>0.1682218</td>\n",
       "<td>0.0581858</td></tr></table></div>"
      ],
      "text/plain": [
       "    timestamp            duration           number_of_trees    training_rmse    training_mae    training_deviance    validation_rmse    validation_mae    validation_deviance\n",
       "--  -------------------  -----------------  -----------------  ---------------  --------------  -------------------  -----------------  ----------------  ---------------------\n",
       "    2018-06-27 15:49:29  27 min 49.388 sec  0                  nan              nan             nan                  nan                nan               nan\n",
       "    2018-06-27 15:49:30  27 min 50.124 sec  1                  0.244129         0.166224        0.059599             0.244233           0.166305          0.0596498\n",
       "    2018-06-27 15:49:30  27 min 50.904 sec  2                  0.244789         0.167219        0.0599214            0.24257            0.166378          0.0588404\n",
       "    2018-06-27 15:49:31  27 min 51.807 sec  3                  0.245503         0.167849        0.0602718            0.243365           0.167027          0.0592264\n",
       "    2018-06-27 15:49:32  27 min 52.728 sec  4                  0.245262         0.167905        0.0601536            0.243232           0.167129          0.059162\n",
       "    2018-06-27 15:49:37  27 min 57.162 sec  10                 0.242646         0.167183        0.0588773            0.241696           0.166944          0.0584171\n",
       "    2018-06-27 15:49:45  28 min  5.365 sec  21                 0.242018         0.166985        0.0585728            0.241731           0.167025          0.0584338\n",
       "    2018-06-27 15:50:02  28 min 22.783 sec  45                 0.241228         0.167321        0.0581909            0.241268           0.167467          0.0582101\n",
       "    2018-06-27 15:50:39  28 min 59.211 sec  93                 0.241017         0.167797        0.0580893            0.241154           0.167973          0.0581552\n",
       "    2018-06-27 15:51:53  30 min 13.823 sec  195                0.241072         0.167934        0.0581155            0.241256           0.168124          0.0582044\n",
       "    2018-06-27 15:53:51  32 min 11.255 sec  348                0.24097          0.168008        0.0580666            0.241217           0.168222          0.0581858"
      ]
     },
     "metadata": {},
     "output_type": "display_data"
    },
    {
     "name": "stdout",
     "output_type": "stream",
     "text": [
      "Variable Importances: \n"
     ]
    },
    {
     "data": {
      "text/html": [
       "<div style=\"overflow:auto\"><table style=\"width:50%\"><tr><td><b>variable</b></td>\n",
       "<td><b>relative_importance</b></td>\n",
       "<td><b>scaled_importance</b></td>\n",
       "<td><b>percentage</b></td></tr>\n",
       "<tr><td>category_name_en</td>\n",
       "<td>1869954.3750000</td>\n",
       "<td>1.0</td>\n",
       "<td>0.4333431</td></tr>\n",
       "<tr><td>parent_category_name_en</td>\n",
       "<td>1089132.6250000</td>\n",
       "<td>0.5824381</td>\n",
       "<td>0.2523955</td></tr>\n",
       "<tr><td>image_top_1</td>\n",
       "<td>687771.3750000</td>\n",
       "<td>0.3678012</td>\n",
       "<td>0.1593841</td></tr>\n",
       "<tr><td>price</td>\n",
       "<td>207510.2187500</td>\n",
       "<td>0.1109707</td>\n",
       "<td>0.0480884</td></tr>\n",
       "<tr><td>user_type</td>\n",
       "<td>128342.5156250</td>\n",
       "<td>0.0686340</td>\n",
       "<td>0.0297421</td></tr>\n",
       "<tr><td>---</td>\n",
       "<td>---</td>\n",
       "<td>---</td>\n",
       "<td>---</td></tr>\n",
       "<tr><td>brightness</td>\n",
       "<td>4543.5864258</td>\n",
       "<td>0.0024298</td>\n",
       "<td>0.0010529</td></tr>\n",
       "<tr><td>blurrness</td>\n",
       "<td>708.7791138</td>\n",
       "<td>0.0003790</td>\n",
       "<td>0.0001643</td></tr>\n",
       "<tr><td>day of week</td>\n",
       "<td>700.2178955</td>\n",
       "<td>0.0003745</td>\n",
       "<td>0.0001623</td></tr>\n",
       "<tr><td>Unnamed: 0</td>\n",
       "<td>478.8848572</td>\n",
       "<td>0.0002561</td>\n",
       "<td>0.0001110</td></tr>\n",
       "<tr><td>month</td>\n",
       "<td>0.0</td>\n",
       "<td>0.0</td>\n",
       "<td>0.0</td></tr></table></div>"
      ],
      "text/plain": [
       "variable                 relative_importance    scaled_importance       percentage\n",
       "-----------------------  ---------------------  ----------------------  ----------------------\n",
       "category_name_en         1869954.375            1.0                     0.43334313525504264\n",
       "parent_category_name_en  1089132.625            0.5824380741909813      0.252395541161829\n",
       "image_top_1              687771.375             0.3678011529024605      0.15938410474917158\n",
       "price                    207510.21875           0.11097073892511415     0.04808840792737777\n",
       "user_type                128342.515625          0.06863403585715828     0.02974208828354799\n",
       "---                      ---                    ---                     ---\n",
       "brightness               4543.58642578125       0.0024297846442276165   0.0010529304957241537\n",
       "blurrness                708.7791137695312      0.0003790355119062898   0.0001642524371024717\n",
       "day of week              700.2178955078125      0.00037445720861922766  0.0001622684608019077\n",
       "Unnamed: 0               478.8848571777344      0.00025609440721126385  0.00011097675334221068\n",
       "month                    0.0                    0.0                     0.0"
      ]
     },
     "metadata": {},
     "output_type": "display_data"
    },
    {
     "name": "stdout",
     "output_type": "stream",
     "text": [
      "\n",
      "See the whole table with table.as_data_frame()\n"
     ]
    },
    {
     "data": {
      "text/plain": []
     },
     "execution_count": 33,
     "metadata": {},
     "output_type": "execute_result"
    }
   ],
   "source": [
    "#show grid search results\n",
    "ertsearch.show()\n",
    "\n",
    "# select best model\n",
    "ert_model = ertsearch.get_grid()[0]\n",
    "\n",
    "# print model information\n",
    "ert_model"
   ]
  },
  {
   "cell_type": "code",
   "execution_count": 34,
   "metadata": {},
   "outputs": [
    {
     "name": "stdout",
     "output_type": "stream",
     "text": [
      "0.24097008690149274\n"
     ]
    }
   ],
   "source": [
    "print(ert_model.rmse(train=True))"
   ]
  },
  {
   "cell_type": "code",
   "execution_count": 35,
   "metadata": {},
   "outputs": [
    {
     "name": "stdout",
     "output_type": "stream",
     "text": [
      "0.2412172414685083\n"
     ]
    }
   ],
   "source": [
    "print(ert_model.rmse(valid=True))"
   ]
  },
  {
   "cell_type": "code",
   "execution_count": 36,
   "metadata": {
    "scrolled": true
   },
   "outputs": [
    {
     "name": "stdout",
     "output_type": "stream",
     "text": [
      "drf prediction progress: |████████████████████████████████████████████████| 100%\n"
     ]
    },
    {
     "name": "stderr",
     "output_type": "stream",
     "text": [
      "C:\\Users\\wchen\\AppData\\Local\\Continuum\\anaconda3\\lib\\site-packages\\h2o\\job.py:69: UserWarning: Test/Validation dataset column 'image_top_1' has levels not trained on: [200, 614]\n",
      "  warnings.warn(w)\n"
     ]
    }
   ],
   "source": [
    "ert_model_test = ert_model.predict(test_df)\n",
    "gen_submission(ert_model_test)"
   ]
  },
  {
   "cell_type": "markdown",
   "metadata": {},
   "source": [
    "### 4.GBM"
   ]
  },
  {
   "cell_type": "code",
   "execution_count": 116,
   "metadata": {},
   "outputs": [
    {
     "name": "stdout",
     "output_type": "stream",
     "text": [
      "gbm Grid Build progress: |████████████████████████████████████████████████| 100%\n"
     ]
    }
   ],
   "source": [
    "# GBM with random hyperparameter search\n",
    "# train many different GBM models with random hyperparameters\n",
    "# and select best model based on validation error\n",
    "\n",
    "# define random grid search parameters\n",
    "hyper_parameters = {'ntrees':list(range(0, 500, 50)),\n",
    "                    'max_depth':list(range(0, 20, 2)),\n",
    "                    'sample_rate':[s/float(10) for s in range(1, 11)],\n",
    "                    'col_sample_rate':[s/float(10) for s in range(1, 11)]}\n",
    "\n",
    "# define search strategy\n",
    "search_criteria = {'strategy':'RandomDiscrete',\n",
    "                   'max_models':20,\n",
    "                   'max_runtime_secs':1800}\n",
    "\n",
    "# initialize grid search\n",
    "gsearch = H2OGridSearch(model=H2OGradientBoostingEstimator(nfolds=5,fold_assignment='Modulo',keep_cross_validation_predictions=True),\n",
    "                        hyper_params=hyper_parameters,\n",
    "                        search_criteria=search_criteria)\n",
    "\n",
    "# execute training w/ grid search\n",
    "gsearch.train(x=X,\n",
    "              y=y,\n",
    "              training_frame=train_df,\n",
    "              validation_frame=validate_df,\n",
    "              stopping_rounds=10)\n",
    "\n",
    "# view detailed results at http://localhost:54321/flow/index.html"
   ]
  },
  {
   "cell_type": "code",
   "execution_count": 117,
   "metadata": {},
   "outputs": [
    {
     "name": "stdout",
     "output_type": "stream",
     "text": [
      "    col_sample_rate max_depth ntrees sample_rate  \\\n",
      "0               0.8        10    150         0.3   \n",
      "1               0.1         8    300         0.1   \n",
      "2               0.7        12     50         0.1   \n",
      "3               0.1         4     97         0.4   \n",
      "4               0.7        16     73         0.2   \n",
      "\n",
      "                                                      model_ids  \\\n",
      "0  Grid_GBM_py_35_sid_9c4e_model_python_1530288365896_1_model_2   \n",
      "1  Grid_GBM_py_35_sid_9c4e_model_python_1530288365896_1_model_1   \n",
      "2  Grid_GBM_py_35_sid_9c4e_model_python_1530288365896_1_model_0   \n",
      "3  Grid_GBM_py_35_sid_9c4e_model_python_1530288365896_1_model_4   \n",
      "4  Grid_GBM_py_35_sid_9c4e_model_python_1530288365896_1_model_3   \n",
      "\n",
      "      residual_deviance  \n",
      "0  0.052863268951093396  \n",
      "1    0.0544884285884608  \n",
      "2   0.05512482528234771  \n",
      "3   0.05624821972169613  \n",
      "4   0.05681176023241796  \n",
      "Model Details\n",
      "=============\n",
      "H2OGradientBoostingEstimator :  Gradient Boosting Machine\n",
      "Model Key:  Grid_GBM_py_35_sid_9c4e_model_python_1530288365896_1_model_2\n",
      "\n",
      "\n",
      "ModelMetricsRegression: gbm\n",
      "** Reported on train data. **\n",
      "\n",
      "MSE: 0.04533864499670963\n",
      "RMSE: 0.2129287322009635\n",
      "MAE: 0.14246921516784536\n",
      "RMSLE: 0.15820136002499877\n",
      "Mean Residual Deviance: 0.04533864499670963\n",
      "\n",
      "ModelMetricsRegression: gbm\n",
      "** Reported on validation data. **\n",
      "\n",
      "MSE: 0.05258768418695681\n",
      "RMSE: 0.22932004750338947\n",
      "MAE: 0.15333886939538033\n",
      "RMSLE: 0.1711228077521787\n",
      "Mean Residual Deviance: 0.05258768418695681\n",
      "\n",
      "ModelMetricsRegression: gbm\n",
      "** Reported on cross-validation data. **\n",
      "\n",
      "MSE: 0.052863268951093396\n",
      "RMSE: 0.22992013602791164\n",
      "MAE: 0.15368203282995058\n",
      "RMSLE: 0.17167405979642414\n",
      "Mean Residual Deviance: 0.052863268951093396\n",
      "Cross-Validation Metrics Summary: \n"
     ]
    },
    {
     "data": {
      "text/html": [
       "<div style=\"overflow:auto\"><table style=\"width:50%\"><tr><td><b></b></td>\n",
       "<td><b>mean</b></td>\n",
       "<td><b>sd</b></td>\n",
       "<td><b>cv_1_valid</b></td>\n",
       "<td><b>cv_2_valid</b></td>\n",
       "<td><b>cv_3_valid</b></td>\n",
       "<td><b>cv_4_valid</b></td>\n",
       "<td><b>cv_5_valid</b></td></tr>\n",
       "<tr><td>mae</td>\n",
       "<td>0.1536820</td>\n",
       "<td>0.0002042</td>\n",
       "<td>0.1531930</td>\n",
       "<td>0.1535169</td>\n",
       "<td>0.1539702</td>\n",
       "<td>0.1538497</td>\n",
       "<td>0.1538804</td></tr>\n",
       "<tr><td>mean_residual_deviance</td>\n",
       "<td>0.0528633</td>\n",
       "<td>0.0001441</td>\n",
       "<td>0.0525933</td>\n",
       "<td>0.0526861</td>\n",
       "<td>0.0531669</td>\n",
       "<td>0.0529145</td>\n",
       "<td>0.0529555</td></tr>\n",
       "<tr><td>mse</td>\n",
       "<td>0.0528633</td>\n",
       "<td>0.0001441</td>\n",
       "<td>0.0525933</td>\n",
       "<td>0.0526861</td>\n",
       "<td>0.0531669</td>\n",
       "<td>0.0529145</td>\n",
       "<td>0.0529555</td></tr>\n",
       "<tr><td>r2</td>\n",
       "<td>0.2180551</td>\n",
       "<td>0.0009721</td>\n",
       "<td>0.2180787</td>\n",
       "<td>0.2166342</td>\n",
       "<td>0.2171382</td>\n",
       "<td>0.2178135</td>\n",
       "<td>0.2206109</td></tr>\n",
       "<tr><td>residual_deviance</td>\n",
       "<td>0.0528633</td>\n",
       "<td>0.0001441</td>\n",
       "<td>0.0525933</td>\n",
       "<td>0.0526861</td>\n",
       "<td>0.0531669</td>\n",
       "<td>0.0529145</td>\n",
       "<td>0.0529555</td></tr>\n",
       "<tr><td>rmse</td>\n",
       "<td>0.2299197</td>\n",
       "<td>0.0003133</td>\n",
       "<td>0.2293322</td>\n",
       "<td>0.2295346</td>\n",
       "<td>0.2305795</td>\n",
       "<td>0.2300316</td>\n",
       "<td>0.2301206</td></tr>\n",
       "<tr><td>rmsle</td>\n",
       "<td>0.1716739</td>\n",
       "<td>0.0001630</td>\n",
       "<td>0.1713281</td>\n",
       "<td>0.1715535</td>\n",
       "<td>0.1720268</td>\n",
       "<td>0.1717496</td>\n",
       "<td>0.1717116</td></tr></table></div>"
      ],
      "text/plain": [
       "                        mean       sd           cv_1_valid    cv_2_valid    cv_3_valid    cv_4_valid    cv_5_valid\n",
       "----------------------  ---------  -----------  ------------  ------------  ------------  ------------  ------------\n",
       "mae                     0.153682   0.000204188  0.153193      0.153517      0.15397       0.15385       0.15388\n",
       "mean_residual_deviance  0.0528633  0.000144083  0.0525933     0.0526861     0.0531669     0.0529145     0.0529555\n",
       "mse                     0.0528633  0.000144083  0.0525933     0.0526861     0.0531669     0.0529145     0.0529555\n",
       "r2                      0.218055   0.000972145  0.218079      0.216634      0.217138      0.217814      0.220611\n",
       "residual_deviance       0.0528633  0.000144083  0.0525933     0.0526861     0.0531669     0.0529145     0.0529555\n",
       "rmse                    0.22992    0.000313308  0.229332      0.229535      0.23058       0.230032      0.230121\n",
       "rmsle                   0.171674   0.000163023  0.171328      0.171553      0.172027      0.17175       0.171712"
      ]
     },
     "metadata": {},
     "output_type": "display_data"
    },
    {
     "name": "stdout",
     "output_type": "stream",
     "text": [
      "Scoring History: \n"
     ]
    },
    {
     "data": {
      "text/html": [
       "<div style=\"overflow:auto\"><table style=\"width:50%\"><tr><td><b></b></td>\n",
       "<td><b>timestamp</b></td>\n",
       "<td><b>duration</b></td>\n",
       "<td><b>number_of_trees</b></td>\n",
       "<td><b>training_rmse</b></td>\n",
       "<td><b>training_mae</b></td>\n",
       "<td><b>training_deviance</b></td>\n",
       "<td><b>validation_rmse</b></td>\n",
       "<td><b>validation_mae</b></td>\n",
       "<td><b>validation_deviance</b></td></tr>\n",
       "<tr><td></td>\n",
       "<td>2018-06-29 12:23:39</td>\n",
       "<td>17 min  2.099 sec</td>\n",
       "<td>0.0</td>\n",
       "<td>0.2600107</td>\n",
       "<td>0.1901577</td>\n",
       "<td>0.0676056</td>\n",
       "<td>0.2602365</td>\n",
       "<td>0.1903435</td>\n",
       "<td>0.0677230</td></tr>\n",
       "<tr><td></td>\n",
       "<td>2018-06-29 12:23:39</td>\n",
       "<td>17 min  2.790 sec</td>\n",
       "<td>1.0</td>\n",
       "<td>0.2553550</td>\n",
       "<td>0.1859863</td>\n",
       "<td>0.0652062</td>\n",
       "<td>0.2557195</td>\n",
       "<td>0.1862878</td>\n",
       "<td>0.0653925</td></tr>\n",
       "<tr><td></td>\n",
       "<td>2018-06-29 12:23:40</td>\n",
       "<td>17 min  3.446 sec</td>\n",
       "<td>2.0</td>\n",
       "<td>0.2514562</td>\n",
       "<td>0.1824426</td>\n",
       "<td>0.0632302</td>\n",
       "<td>0.2519886</td>\n",
       "<td>0.1828659</td>\n",
       "<td>0.0634983</td></tr>\n",
       "<tr><td></td>\n",
       "<td>2018-06-29 12:23:41</td>\n",
       "<td>17 min  4.141 sec</td>\n",
       "<td>3.0</td>\n",
       "<td>0.2483108</td>\n",
       "<td>0.1795524</td>\n",
       "<td>0.0616582</td>\n",
       "<td>0.2489831</td>\n",
       "<td>0.1800834</td>\n",
       "<td>0.0619926</td></tr>\n",
       "<tr><td></td>\n",
       "<td>2018-06-29 12:23:41</td>\n",
       "<td>17 min  4.870 sec</td>\n",
       "<td>4.0</td>\n",
       "<td>0.2454126</td>\n",
       "<td>0.1768468</td>\n",
       "<td>0.0602274</td>\n",
       "<td>0.2462770</td>\n",
       "<td>0.1775097</td>\n",
       "<td>0.0606523</td></tr>\n",
       "<tr><td></td>\n",
       "<td>2018-06-29 12:23:42</td>\n",
       "<td>17 min  5.618 sec</td>\n",
       "<td>5.0</td>\n",
       "<td>0.2429160</td>\n",
       "<td>0.1744539</td>\n",
       "<td>0.0590082</td>\n",
       "<td>0.2439555</td>\n",
       "<td>0.1752582</td>\n",
       "<td>0.0595143</td></tr>\n",
       "<tr><td></td>\n",
       "<td>2018-06-29 12:23:46</td>\n",
       "<td>17 min  9.775 sec</td>\n",
       "<td>12.0</td>\n",
       "<td>0.2335494</td>\n",
       "<td>0.1638584</td>\n",
       "<td>0.0545453</td>\n",
       "<td>0.2358391</td>\n",
       "<td>0.1654818</td>\n",
       "<td>0.0556201</td></tr>\n",
       "<tr><td></td>\n",
       "<td>2018-06-29 12:23:51</td>\n",
       "<td>17 min 14.054 sec</td>\n",
       "<td>19.0</td>\n",
       "<td>0.2294574</td>\n",
       "<td>0.1582342</td>\n",
       "<td>0.0526507</td>\n",
       "<td>0.2330194</td>\n",
       "<td>0.1606950</td>\n",
       "<td>0.0542980</td></tr>\n",
       "<tr><td></td>\n",
       "<td>2018-06-29 12:23:55</td>\n",
       "<td>17 min 18.227 sec</td>\n",
       "<td>26.0</td>\n",
       "<td>0.2264028</td>\n",
       "<td>0.1544813</td>\n",
       "<td>0.0512582</td>\n",
       "<td>0.2311929</td>\n",
       "<td>0.1577111</td>\n",
       "<td>0.0534502</td></tr>\n",
       "<tr><td></td>\n",
       "<td>2018-06-29 12:23:59</td>\n",
       "<td>17 min 22.476 sec</td>\n",
       "<td>33.0</td>\n",
       "<td>0.2243304</td>\n",
       "<td>0.1521181</td>\n",
       "<td>0.0503241</td>\n",
       "<td>0.2303711</td>\n",
       "<td>0.1561677</td>\n",
       "<td>0.0530708</td></tr>\n",
       "<tr><td></td>\n",
       "<td>2018-06-29 12:24:04</td>\n",
       "<td>17 min 27.795 sec</td>\n",
       "<td>42.0</td>\n",
       "<td>0.2222563</td>\n",
       "<td>0.1500702</td>\n",
       "<td>0.0493979</td>\n",
       "<td>0.2298413</td>\n",
       "<td>0.1551420</td>\n",
       "<td>0.0528270</td></tr>\n",
       "<tr><td></td>\n",
       "<td>2018-06-29 12:24:10</td>\n",
       "<td>17 min 33.036 sec</td>\n",
       "<td>51.0</td>\n",
       "<td>0.2204398</td>\n",
       "<td>0.1484098</td>\n",
       "<td>0.0485937</td>\n",
       "<td>0.2294532</td>\n",
       "<td>0.1543858</td>\n",
       "<td>0.0526488</td></tr>\n",
       "<tr><td></td>\n",
       "<td>2018-06-29 12:24:15</td>\n",
       "<td>17 min 38.691 sec</td>\n",
       "<td>60.0</td>\n",
       "<td>0.2187645</td>\n",
       "<td>0.1469674</td>\n",
       "<td>0.0478579</td>\n",
       "<td>0.2292968</td>\n",
       "<td>0.1539343</td>\n",
       "<td>0.0525770</td></tr>\n",
       "<tr><td></td>\n",
       "<td>2018-06-29 12:24:21</td>\n",
       "<td>17 min 43.983 sec</td>\n",
       "<td>69.0</td>\n",
       "<td>0.2174468</td>\n",
       "<td>0.1459564</td>\n",
       "<td>0.0472831</td>\n",
       "<td>0.2293073</td>\n",
       "<td>0.1538089</td>\n",
       "<td>0.0525818</td></tr>\n",
       "<tr><td></td>\n",
       "<td>2018-06-29 12:24:26</td>\n",
       "<td>17 min 49.200 sec</td>\n",
       "<td>78.0</td>\n",
       "<td>0.2161181</td>\n",
       "<td>0.1448957</td>\n",
       "<td>0.0467070</td>\n",
       "<td>0.2292695</td>\n",
       "<td>0.1536274</td>\n",
       "<td>0.0525645</td></tr>\n",
       "<tr><td></td>\n",
       "<td>2018-06-29 12:24:31</td>\n",
       "<td>17 min 54.636 sec</td>\n",
       "<td>87.0</td>\n",
       "<td>0.2148462</td>\n",
       "<td>0.1439570</td>\n",
       "<td>0.0461589</td>\n",
       "<td>0.2292946</td>\n",
       "<td>0.1535414</td>\n",
       "<td>0.0525760</td></tr>\n",
       "<tr><td></td>\n",
       "<td>2018-06-29 12:24:37</td>\n",
       "<td>18 min  0.162 sec</td>\n",
       "<td>97.0</td>\n",
       "<td>0.2135523</td>\n",
       "<td>0.1428897</td>\n",
       "<td>0.0456046</td>\n",
       "<td>0.2292854</td>\n",
       "<td>0.1533155</td>\n",
       "<td>0.0525718</td></tr>\n",
       "<tr><td></td>\n",
       "<td>2018-06-29 12:24:42</td>\n",
       "<td>18 min  5.455 sec</td>\n",
       "<td>131.0</td>\n",
       "<td>0.2129287</td>\n",
       "<td>0.1424692</td>\n",
       "<td>0.0453386</td>\n",
       "<td>0.2293200</td>\n",
       "<td>0.1533389</td>\n",
       "<td>0.0525877</td></tr>\n",
       "<tr><td></td>\n",
       "<td>2018-06-29 12:24:44</td>\n",
       "<td>18 min  7.459 sec</td>\n",
       "<td>150.0</td>\n",
       "<td>0.2129287</td>\n",
       "<td>0.1424692</td>\n",
       "<td>0.0453386</td>\n",
       "<td>0.2293200</td>\n",
       "<td>0.1533389</td>\n",
       "<td>0.0525877</td></tr></table></div>"
      ],
      "text/plain": [
       "    timestamp            duration           number_of_trees    training_rmse    training_mae    training_deviance    validation_rmse    validation_mae    validation_deviance\n",
       "--  -------------------  -----------------  -----------------  ---------------  --------------  -------------------  -----------------  ----------------  ---------------------\n",
       "    2018-06-29 12:23:39  17 min  2.099 sec  0                  0.260011         0.190158        0.0676056            0.260236           0.190343          0.067723\n",
       "    2018-06-29 12:23:39  17 min  2.790 sec  1                  0.255355         0.185986        0.0652062            0.25572            0.186288          0.0653925\n",
       "    2018-06-29 12:23:40  17 min  3.446 sec  2                  0.251456         0.182443        0.0632302            0.251989           0.182866          0.0634983\n",
       "    2018-06-29 12:23:41  17 min  4.141 sec  3                  0.248311         0.179552        0.0616582            0.248983           0.180083          0.0619926\n",
       "    2018-06-29 12:23:41  17 min  4.870 sec  4                  0.245413         0.176847        0.0602274            0.246277           0.17751           0.0606523\n",
       "    2018-06-29 12:23:42  17 min  5.618 sec  5                  0.242916         0.174454        0.0590082            0.243955           0.175258          0.0595143\n",
       "    2018-06-29 12:23:46  17 min  9.775 sec  12                 0.233549         0.163858        0.0545453            0.235839           0.165482          0.0556201\n",
       "    2018-06-29 12:23:51  17 min 14.054 sec  19                 0.229457         0.158234        0.0526507            0.233019           0.160695          0.054298\n",
       "    2018-06-29 12:23:55  17 min 18.227 sec  26                 0.226403         0.154481        0.0512582            0.231193           0.157711          0.0534502\n",
       "    2018-06-29 12:23:59  17 min 22.476 sec  33                 0.22433          0.152118        0.0503241            0.230371           0.156168          0.0530708\n",
       "    2018-06-29 12:24:04  17 min 27.795 sec  42                 0.222256         0.15007         0.0493979            0.229841           0.155142          0.052827\n",
       "    2018-06-29 12:24:10  17 min 33.036 sec  51                 0.22044          0.14841         0.0485937            0.229453           0.154386          0.0526488\n",
       "    2018-06-29 12:24:15  17 min 38.691 sec  60                 0.218764         0.146967        0.0478579            0.229297           0.153934          0.052577\n",
       "    2018-06-29 12:24:21  17 min 43.983 sec  69                 0.217447         0.145956        0.0472831            0.229307           0.153809          0.0525818\n",
       "    2018-06-29 12:24:26  17 min 49.200 sec  78                 0.216118         0.144896        0.046707             0.22927            0.153627          0.0525645\n",
       "    2018-06-29 12:24:31  17 min 54.636 sec  87                 0.214846         0.143957        0.0461589            0.229295           0.153541          0.052576\n",
       "    2018-06-29 12:24:37  18 min  0.162 sec  97                 0.213552         0.14289         0.0456046            0.229285           0.153316          0.0525718\n",
       "    2018-06-29 12:24:42  18 min  5.455 sec  131                0.212929         0.142469        0.0453386            0.22932            0.153339          0.0525877\n",
       "    2018-06-29 12:24:44  18 min  7.459 sec  150                0.212929         0.142469        0.0453386            0.22932            0.153339          0.0525877"
      ]
     },
     "metadata": {},
     "output_type": "display_data"
    },
    {
     "name": "stdout",
     "output_type": "stream",
     "text": [
      "Variable Importances: \n"
     ]
    },
    {
     "data": {
      "text/html": [
       "<div style=\"overflow:auto\"><table style=\"width:50%\"><tr><td><b>variable</b></td>\n",
       "<td><b>relative_importance</b></td>\n",
       "<td><b>scaled_importance</b></td>\n",
       "<td><b>percentage</b></td></tr>\n",
       "<tr><td>category_name_en</td>\n",
       "<td>34495.9960938</td>\n",
       "<td>1.0</td>\n",
       "<td>0.3935661</td></tr>\n",
       "<tr><td>image_top_1</td>\n",
       "<td>15225.9306641</td>\n",
       "<td>0.4413825</td>\n",
       "<td>0.1737132</td></tr>\n",
       "<tr><td>region_en</td>\n",
       "<td>9365.2919922</td>\n",
       "<td>0.2714892</td>\n",
       "<td>0.1068490</td></tr>\n",
       "<tr><td>seq_group15</td>\n",
       "<td>6541.9521484</td>\n",
       "<td>0.1896438</td>\n",
       "<td>0.0746374</td></tr>\n",
       "<tr><td>parent_category_name_en</td>\n",
       "<td>4623.0590820</td>\n",
       "<td>0.1340173</td>\n",
       "<td>0.0527447</td></tr>\n",
       "<tr><td>---</td>\n",
       "<td>---</td>\n",
       "<td>---</td>\n",
       "<td>---</td></tr>\n",
       "<tr><td>count</td>\n",
       "<td>472.9980774</td>\n",
       "<td>0.0137117</td>\n",
       "<td>0.0053965</td></tr>\n",
       "<tr><td>height</td>\n",
       "<td>385.3219910</td>\n",
       "<td>0.0111700</td>\n",
       "<td>0.0043962</td></tr>\n",
       "<tr><td>price_dummy</td>\n",
       "<td>169.4272308</td>\n",
       "<td>0.0049115</td>\n",
       "<td>0.0019330</td></tr>\n",
       "<tr><td>image_dummy</td>\n",
       "<td>3.8380327</td>\n",
       "<td>0.0001113</td>\n",
       "<td>0.0000438</td></tr>\n",
       "<tr><td>month</td>\n",
       "<td>0.0</td>\n",
       "<td>0.0</td>\n",
       "<td>0.0</td></tr></table></div>"
      ],
      "text/plain": [
       "variable                 relative_importance    scaled_importance       percentage\n",
       "-----------------------  ---------------------  ----------------------  ---------------------\n",
       "category_name_en         34495.99609375         1.0                     0.3935661457159693\n",
       "image_top_1              15225.9306640625       0.4413825483596092      0.17371322834418385\n",
       "region_en                9365.2919921875        0.2714892466573623      0.10684897641027019\n",
       "seq_group15              6541.9521484375        0.18964381056451865     0.07463738358276703\n",
       "parent_category_name_en  4623.05908203125       0.13401726593043237     0.05274465881163236\n",
       "---                      ---                    ---                     ---\n",
       "count                    472.9980773925781      0.013711680512344334    0.005396453250532127\n",
       "height                   385.3219909667969      0.011170049704307848    0.004396153409580243\n",
       "price_dummy              169.42723083496094     0.004911504232969746    0.001933001790637571\n",
       "image_dummy              3.8380327224731445     0.00011126023762417231  4.378826289318837e-05\n",
       "month                    0.0                    0.0                     0.0"
      ]
     },
     "metadata": {},
     "output_type": "display_data"
    },
    {
     "name": "stdout",
     "output_type": "stream",
     "text": [
      "\n",
      "See the whole table with table.as_data_frame()\n"
     ]
    },
    {
     "data": {
      "text/plain": []
     },
     "execution_count": 117,
     "metadata": {},
     "output_type": "execute_result"
    }
   ],
   "source": [
    "# show grid search results\n",
    "gsearch.show()\n",
    "\n",
    "# select best model\n",
    "gbm_model = gsearch.get_grid()[0]\n",
    "\n",
    "# print model information\n",
    "gbm_model"
   ]
  },
  {
   "cell_type": "code",
   "execution_count": 118,
   "metadata": {},
   "outputs": [
    {
     "name": "stdout",
     "output_type": "stream",
     "text": [
      "0.2129287322009635\n"
     ]
    }
   ],
   "source": [
    "print(gbm_model.rmse(train=True))"
   ]
  },
  {
   "cell_type": "code",
   "execution_count": 119,
   "metadata": {},
   "outputs": [
    {
     "name": "stdout",
     "output_type": "stream",
     "text": [
      "0.22932004750338947\n"
     ]
    }
   ],
   "source": [
    "print(gbm_model.rmse(valid=True))"
   ]
  },
  {
   "cell_type": "code",
   "execution_count": 120,
   "metadata": {},
   "outputs": [],
   "source": [
    "gbm_model4=gbm_model"
   ]
  },
  {
   "cell_type": "code",
   "execution_count": 121,
   "metadata": {},
   "outputs": [],
   "source": [
    "# save the model\n",
    "model_path = h2o.save_model(model=gbm_model4, path= \"C:/Users/wchen/Desktop/models\", force=True)"
   ]
  },
  {
   "cell_type": "code",
   "execution_count": 123,
   "metadata": {},
   "outputs": [
    {
     "name": "stdout",
     "output_type": "stream",
     "text": [
      "gbm prediction progress: |████████████████████████████████████████████████| 100%\n"
     ]
    },
    {
     "name": "stderr",
     "output_type": "stream",
     "text": [
      "C:\\Users\\wchen\\AppData\\Local\\Continuum\\anaconda3\\lib\\site-packages\\h2o\\job.py:69: UserWarning: Test/Validation dataset column 'image_top_1' has levels not trained on: [200, 614]\n",
      "  warnings.warn(w)\n"
     ]
    }
   ],
   "source": [
    "gbm_model_test = gbm_model.predict(test_df)\n",
    "gen_submission(gbm_model_test)"
   ]
  },
  {
   "cell_type": "code",
   "execution_count": null,
   "metadata": {},
   "outputs": [],
   "source": []
  },
  {
   "cell_type": "code",
   "execution_count": null,
   "metadata": {},
   "outputs": [],
   "source": []
  },
  {
   "cell_type": "markdown",
   "metadata": {},
   "source": [
    "### 5. XGBoost"
   ]
  },
  {
   "cell_type": "code",
   "execution_count": 49,
   "metadata": {},
   "outputs": [
    {
     "ename": "H2OResponseError",
     "evalue": "Server error water.exceptions.H2ONotFoundArgumentException:\n  Error: POST /99/Grid/xgboost not found\n  Request: POST /99/Grid/xgboost\n    data: {'search_criteria': \"{'strategy': 'RandomDiscrete', 'max_models': 20, 'max_runtime_secs': 1800}\", 'hyper_parameters': \"{'ntrees': [0, 50, 100, 150, 200, 250, 300, 350, 400, 450], 'max_depth': [0, 2, 4, 6, 8, 10, 12, 14, 16, 18], 'sample_rate': [0.1, 0.2, 0.3, 0.4, 0.5, 0.6, 0.7, 0.8, 0.9, 1.0], 'col_sample_rate': [0.1, 0.2, 0.3, 0.4, 0.5, 0.6, 0.7, 0.8, 0.9, 1.0]}\", 'nfolds': '5', 'fold_assignment': 'Modulo', 'keep_cross_validation_predictions': 'True', 'stopping_rounds': '10', 'training_frame': 'py_14_sid_855a', 'validation_frame': 'py_17_sid_855a', 'response_column': 'deal_probability', 'ignored_columns': '[\"item_id\"]'}\n",
     "output_type": "error",
     "traceback": [
      "\u001b[1;31m---------------------------------------------------------------------------\u001b[0m",
      "\u001b[1;31mH2OResponseError\u001b[0m                          Traceback (most recent call last)",
      "\u001b[1;32m<ipython-input-49-a2de40227ac4>\u001b[0m in \u001b[0;36m<module>\u001b[1;34m()\u001b[0m\n\u001b[0;32m     20\u001b[0m               \u001b[0mtraining_frame\u001b[0m\u001b[1;33m=\u001b[0m\u001b[0mtrain_df\u001b[0m\u001b[1;33m,\u001b[0m\u001b[1;33m\u001b[0m\u001b[0m\n\u001b[0;32m     21\u001b[0m               \u001b[0mvalidation_frame\u001b[0m\u001b[1;33m=\u001b[0m\u001b[0mvalidate_df\u001b[0m\u001b[1;33m,\u001b[0m\u001b[1;33m\u001b[0m\u001b[0m\n\u001b[1;32m---> 22\u001b[1;33m               stopping_rounds=10)\n\u001b[0m\u001b[0;32m     23\u001b[0m \u001b[1;33m\u001b[0m\u001b[0m\n\u001b[0;32m     24\u001b[0m \u001b[1;31m# view detailed results at http://localhost:54321/flow/index.html\u001b[0m\u001b[1;33m\u001b[0m\u001b[1;33m\u001b[0m\u001b[0m\n",
      "\u001b[1;32m~\\AppData\\Local\\Continuum\\anaconda3\\lib\\site-packages\\h2o\\grid\\grid_search.py\u001b[0m in \u001b[0;36mtrain\u001b[1;34m(self, x, y, training_frame, offset_column, fold_column, weights_column, validation_frame, **params)\u001b[0m\n\u001b[0;32m    206\u001b[0m         \u001b[0mx\u001b[0m \u001b[1;33m=\u001b[0m \u001b[0mlist\u001b[0m\u001b[1;33m(\u001b[0m\u001b[0mxset\u001b[0m\u001b[1;33m)\u001b[0m\u001b[1;33m\u001b[0m\u001b[0m\n\u001b[0;32m    207\u001b[0m         \u001b[0mparms\u001b[0m\u001b[1;33m[\u001b[0m\u001b[1;34m\"x\"\u001b[0m\u001b[1;33m]\u001b[0m \u001b[1;33m=\u001b[0m \u001b[0mx\u001b[0m\u001b[1;33m\u001b[0m\u001b[0m\n\u001b[1;32m--> 208\u001b[1;33m         \u001b[0mself\u001b[0m\u001b[1;33m.\u001b[0m\u001b[0mbuild_model\u001b[0m\u001b[1;33m(\u001b[0m\u001b[0mparms\u001b[0m\u001b[1;33m)\u001b[0m\u001b[1;33m\u001b[0m\u001b[0m\n\u001b[0m\u001b[0;32m    209\u001b[0m \u001b[1;33m\u001b[0m\u001b[0m\n\u001b[0;32m    210\u001b[0m \u001b[1;33m\u001b[0m\u001b[0m\n",
      "\u001b[1;32m~\\AppData\\Local\\Continuum\\anaconda3\\lib\\site-packages\\h2o\\grid\\grid_search.py\u001b[0m in \u001b[0;36mbuild_model\u001b[1;34m(self, algo_params)\u001b[0m\n\u001b[0;32m    221\u001b[0m         \u001b[1;32mif\u001b[0m \u001b[0mis_auto_encoder\u001b[0m \u001b[1;32mand\u001b[0m \u001b[0my\u001b[0m \u001b[1;32mis\u001b[0m \u001b[1;32mnot\u001b[0m \u001b[1;32mNone\u001b[0m\u001b[1;33m:\u001b[0m \u001b[1;32mraise\u001b[0m \u001b[0mValueError\u001b[0m\u001b[1;33m(\u001b[0m\u001b[1;34m\"y should not be specified for autoencoder.\"\u001b[0m\u001b[1;33m)\u001b[0m\u001b[1;33m\u001b[0m\u001b[0m\n\u001b[0;32m    222\u001b[0m         \u001b[1;32mif\u001b[0m \u001b[1;32mnot\u001b[0m \u001b[0mis_unsupervised\u001b[0m \u001b[1;32mand\u001b[0m \u001b[0my\u001b[0m \u001b[1;32mis\u001b[0m \u001b[1;32mNone\u001b[0m\u001b[1;33m:\u001b[0m \u001b[1;32mraise\u001b[0m \u001b[0mValueError\u001b[0m\u001b[1;33m(\u001b[0m\u001b[1;34m\"Missing response\"\u001b[0m\u001b[1;33m)\u001b[0m\u001b[1;33m\u001b[0m\u001b[0m\n\u001b[1;32m--> 223\u001b[1;33m         \u001b[0mself\u001b[0m\u001b[1;33m.\u001b[0m\u001b[0m_model_build\u001b[0m\u001b[1;33m(\u001b[0m\u001b[0mx\u001b[0m\u001b[1;33m,\u001b[0m \u001b[0my\u001b[0m\u001b[1;33m,\u001b[0m \u001b[0mtraining_frame\u001b[0m\u001b[1;33m,\u001b[0m \u001b[0mvalidation_frame\u001b[0m\u001b[1;33m,\u001b[0m \u001b[0malgo_params\u001b[0m\u001b[1;33m)\u001b[0m\u001b[1;33m\u001b[0m\u001b[0m\n\u001b[0m\u001b[0;32m    224\u001b[0m \u001b[1;33m\u001b[0m\u001b[0m\n\u001b[0;32m    225\u001b[0m \u001b[1;33m\u001b[0m\u001b[0m\n",
      "\u001b[1;32m~\\AppData\\Local\\Continuum\\anaconda3\\lib\\site-packages\\h2o\\grid\\grid_search.py\u001b[0m in \u001b[0;36m_model_build\u001b[1;34m(self, x, y, tframe, vframe, kwargs)\u001b[0m\n\u001b[0;32m    243\u001b[0m         \u001b[0mrest_ver\u001b[0m \u001b[1;33m=\u001b[0m \u001b[0mkwargs\u001b[0m\u001b[1;33m.\u001b[0m\u001b[0mpop\u001b[0m\u001b[1;33m(\u001b[0m\u001b[1;34m\"_rest_version\"\u001b[0m\u001b[1;33m)\u001b[0m \u001b[1;32mif\u001b[0m \u001b[1;34m\"_rest_version\"\u001b[0m \u001b[1;32min\u001b[0m \u001b[0mkwargs\u001b[0m \u001b[1;32melse\u001b[0m \u001b[1;32mNone\u001b[0m\u001b[1;33m\u001b[0m\u001b[0m\n\u001b[0;32m    244\u001b[0m \u001b[1;33m\u001b[0m\u001b[0m\n\u001b[1;32m--> 245\u001b[1;33m         \u001b[0mgrid\u001b[0m \u001b[1;33m=\u001b[0m \u001b[0mH2OJob\u001b[0m\u001b[1;33m(\u001b[0m\u001b[0mh2o\u001b[0m\u001b[1;33m.\u001b[0m\u001b[0mapi\u001b[0m\u001b[1;33m(\u001b[0m\u001b[1;34m\"POST /99/Grid/%s\"\u001b[0m \u001b[1;33m%\u001b[0m \u001b[0malgo\u001b[0m\u001b[1;33m,\u001b[0m \u001b[0mdata\u001b[0m\u001b[1;33m=\u001b[0m\u001b[0mkwargs\u001b[0m\u001b[1;33m)\u001b[0m\u001b[1;33m,\u001b[0m \u001b[0mjob_type\u001b[0m\u001b[1;33m=\u001b[0m\u001b[1;33m(\u001b[0m\u001b[0malgo\u001b[0m \u001b[1;33m+\u001b[0m \u001b[1;34m\" Grid Build\"\u001b[0m\u001b[1;33m)\u001b[0m\u001b[1;33m)\u001b[0m\u001b[1;33m\u001b[0m\u001b[0m\n\u001b[0m\u001b[0;32m    246\u001b[0m \u001b[1;33m\u001b[0m\u001b[0m\n\u001b[0;32m    247\u001b[0m         \u001b[1;32mif\u001b[0m \u001b[0mself\u001b[0m\u001b[1;33m.\u001b[0m\u001b[0m_future\u001b[0m\u001b[1;33m:\u001b[0m\u001b[1;33m\u001b[0m\u001b[0m\n",
      "\u001b[1;32m~\\AppData\\Local\\Continuum\\anaconda3\\lib\\site-packages\\h2o\\h2o.py\u001b[0m in \u001b[0;36mapi\u001b[1;34m(endpoint, data, json, filename, save_to)\u001b[0m\n\u001b[0;32m    101\u001b[0m     \u001b[1;31m# type checks are performed in H2OConnection class\u001b[0m\u001b[1;33m\u001b[0m\u001b[1;33m\u001b[0m\u001b[0m\n\u001b[0;32m    102\u001b[0m     \u001b[0m_check_connection\u001b[0m\u001b[1;33m(\u001b[0m\u001b[1;33m)\u001b[0m\u001b[1;33m\u001b[0m\u001b[0m\n\u001b[1;32m--> 103\u001b[1;33m     \u001b[1;32mreturn\u001b[0m \u001b[0mh2oconn\u001b[0m\u001b[1;33m.\u001b[0m\u001b[0mrequest\u001b[0m\u001b[1;33m(\u001b[0m\u001b[0mendpoint\u001b[0m\u001b[1;33m,\u001b[0m \u001b[0mdata\u001b[0m\u001b[1;33m=\u001b[0m\u001b[0mdata\u001b[0m\u001b[1;33m,\u001b[0m \u001b[0mjson\u001b[0m\u001b[1;33m=\u001b[0m\u001b[0mjson\u001b[0m\u001b[1;33m,\u001b[0m \u001b[0mfilename\u001b[0m\u001b[1;33m=\u001b[0m\u001b[0mfilename\u001b[0m\u001b[1;33m,\u001b[0m \u001b[0msave_to\u001b[0m\u001b[1;33m=\u001b[0m\u001b[0msave_to\u001b[0m\u001b[1;33m)\u001b[0m\u001b[1;33m\u001b[0m\u001b[0m\n\u001b[0m\u001b[0;32m    104\u001b[0m \u001b[1;33m\u001b[0m\u001b[0m\n\u001b[0;32m    105\u001b[0m \u001b[1;33m\u001b[0m\u001b[0m\n",
      "\u001b[1;32m~\\AppData\\Local\\Continuum\\anaconda3\\lib\\site-packages\\h2o\\backend\\connection.py\u001b[0m in \u001b[0;36mrequest\u001b[1;34m(self, endpoint, data, json, filename, save_to)\u001b[0m\n\u001b[0;32m    400\u001b[0m                                     auth=self._auth, verify=self._verify_ssl_cert, proxies=self._proxies)\n\u001b[0;32m    401\u001b[0m             \u001b[0mself\u001b[0m\u001b[1;33m.\u001b[0m\u001b[0m_log_end_transaction\u001b[0m\u001b[1;33m(\u001b[0m\u001b[0mstart_time\u001b[0m\u001b[1;33m,\u001b[0m \u001b[0mresp\u001b[0m\u001b[1;33m)\u001b[0m\u001b[1;33m\u001b[0m\u001b[0m\n\u001b[1;32m--> 402\u001b[1;33m             \u001b[1;32mreturn\u001b[0m \u001b[0mself\u001b[0m\u001b[1;33m.\u001b[0m\u001b[0m_process_response\u001b[0m\u001b[1;33m(\u001b[0m\u001b[0mresp\u001b[0m\u001b[1;33m,\u001b[0m \u001b[0msave_to\u001b[0m\u001b[1;33m)\u001b[0m\u001b[1;33m\u001b[0m\u001b[0m\n\u001b[0m\u001b[0;32m    403\u001b[0m \u001b[1;33m\u001b[0m\u001b[0m\n\u001b[0;32m    404\u001b[0m         \u001b[1;32mexcept\u001b[0m \u001b[1;33m(\u001b[0m\u001b[0mrequests\u001b[0m\u001b[1;33m.\u001b[0m\u001b[0mexceptions\u001b[0m\u001b[1;33m.\u001b[0m\u001b[0mConnectionError\u001b[0m\u001b[1;33m,\u001b[0m \u001b[0mrequests\u001b[0m\u001b[1;33m.\u001b[0m\u001b[0mexceptions\u001b[0m\u001b[1;33m.\u001b[0m\u001b[0mHTTPError\u001b[0m\u001b[1;33m)\u001b[0m \u001b[1;32mas\u001b[0m \u001b[0me\u001b[0m\u001b[1;33m:\u001b[0m\u001b[1;33m\u001b[0m\u001b[0m\n",
      "\u001b[1;32m~\\AppData\\Local\\Continuum\\anaconda3\\lib\\site-packages\\h2o\\backend\\connection.py\u001b[0m in \u001b[0;36m_process_response\u001b[1;34m(response, save_to)\u001b[0m\n\u001b[0;32m    723\u001b[0m         \u001b[1;31m# Client errors (400 = \"Bad Request\", 404 = \"Not Found\", 412 = \"Precondition Failed\")\u001b[0m\u001b[1;33m\u001b[0m\u001b[1;33m\u001b[0m\u001b[0m\n\u001b[0;32m    724\u001b[0m         \u001b[1;32mif\u001b[0m \u001b[0mstatus_code\u001b[0m \u001b[1;32min\u001b[0m \u001b[1;33m{\u001b[0m\u001b[1;36m400\u001b[0m\u001b[1;33m,\u001b[0m \u001b[1;36m404\u001b[0m\u001b[1;33m,\u001b[0m \u001b[1;36m412\u001b[0m\u001b[1;33m}\u001b[0m \u001b[1;32mand\u001b[0m \u001b[0misinstance\u001b[0m\u001b[1;33m(\u001b[0m\u001b[0mdata\u001b[0m\u001b[1;33m,\u001b[0m \u001b[1;33m(\u001b[0m\u001b[0mH2OErrorV3\u001b[0m\u001b[1;33m,\u001b[0m \u001b[0mH2OModelBuilderErrorV3\u001b[0m\u001b[1;33m)\u001b[0m\u001b[1;33m)\u001b[0m\u001b[1;33m:\u001b[0m\u001b[1;33m\u001b[0m\u001b[0m\n\u001b[1;32m--> 725\u001b[1;33m             \u001b[1;32mraise\u001b[0m \u001b[0mH2OResponseError\u001b[0m\u001b[1;33m(\u001b[0m\u001b[0mdata\u001b[0m\u001b[1;33m)\u001b[0m\u001b[1;33m\u001b[0m\u001b[0m\n\u001b[0m\u001b[0;32m    726\u001b[0m \u001b[1;33m\u001b[0m\u001b[0m\n\u001b[0;32m    727\u001b[0m         \u001b[1;31m# Server errors (notably 500 = \"Server Error\")\u001b[0m\u001b[1;33m\u001b[0m\u001b[1;33m\u001b[0m\u001b[0m\n",
      "\u001b[1;31mH2OResponseError\u001b[0m: Server error water.exceptions.H2ONotFoundArgumentException:\n  Error: POST /99/Grid/xgboost not found\n  Request: POST /99/Grid/xgboost\n    data: {'search_criteria': \"{'strategy': 'RandomDiscrete', 'max_models': 20, 'max_runtime_secs': 1800}\", 'hyper_parameters': \"{'ntrees': [0, 50, 100, 150, 200, 250, 300, 350, 400, 450], 'max_depth': [0, 2, 4, 6, 8, 10, 12, 14, 16, 18], 'sample_rate': [0.1, 0.2, 0.3, 0.4, 0.5, 0.6, 0.7, 0.8, 0.9, 1.0], 'col_sample_rate': [0.1, 0.2, 0.3, 0.4, 0.5, 0.6, 0.7, 0.8, 0.9, 1.0]}\", 'nfolds': '5', 'fold_assignment': 'Modulo', 'keep_cross_validation_predictions': 'True', 'stopping_rounds': '10', 'training_frame': 'py_14_sid_855a', 'validation_frame': 'py_17_sid_855a', 'response_column': 'deal_probability', 'ignored_columns': '[\"item_id\"]'}\n"
     ]
    }
   ],
   "source": [
    "# XGBoost with random hyperparameter search\n",
    "hyper_parameters = {'ntrees':list(range(0, 500, 50)),\n",
    "                    'max_depth':list(range(0, 20, 2)),\n",
    "                    'sample_rate':[s/float(10) for s in range(1, 11)],\n",
    "                    'col_sample_rate':[s/float(10) for s in range(1, 11)]}\n",
    "\n",
    "# define search strategy\n",
    "search_criteria = {'strategy':'RandomDiscrete',\n",
    "                   'max_models':20,\n",
    "                   'max_runtime_secs':1800}\n",
    "\n",
    "# initialize grid search\n",
    "xbgsearch = H2OGridSearch(model=H2OXGBoostEstimator(nfolds=5,fold_assignment='Modulo',keep_cross_validation_predictions=True),\n",
    "                        hyper_params=hyper_parameters,\n",
    "                        search_criteria=search_criteria)\n",
    "\n",
    "# execute training w/ grid search\n",
    "xbgsearch.train(x=X,\n",
    "              y=y,\n",
    "              training_frame=train_df,\n",
    "              validation_frame=validate_df,\n",
    "              stopping_rounds=10)\n",
    "\n",
    "# view detailed results at http://localhost:54321/flow/index.html"
   ]
  },
  {
   "cell_type": "code",
   "execution_count": null,
   "metadata": {},
   "outputs": [],
   "source": [
    "# show grid search results\n",
    "xbgsearch.show()\n",
    "\n",
    "# select best model\n",
    "xgb_model = xbgsearch.get_grid()[0]\n",
    "\n",
    "# print model information\n",
    "xgb_model"
   ]
  },
  {
   "cell_type": "code",
   "execution_count": null,
   "metadata": {},
   "outputs": [],
   "source": [
    "print(xgb_model.rmse(train=True))"
   ]
  },
  {
   "cell_type": "code",
   "execution_count": null,
   "metadata": {},
   "outputs": [],
   "source": [
    "print(xgb_model.rmse(valid=True))"
   ]
  },
  {
   "cell_type": "code",
   "execution_count": null,
   "metadata": {},
   "outputs": [],
   "source": [
    "# save the model\n",
    "model_path = h2o.save_model(model=xgb_model, path= \"C:/Users/wchen/Desktop/models\", force=True)"
   ]
  },
  {
   "cell_type": "code",
   "execution_count": null,
   "metadata": {},
   "outputs": [],
   "source": [
    "xgb_model_test = xgb_model.predict(test_df)\n",
    "gen_submission(xgb_model_test)"
   ]
  },
  {
   "cell_type": "code",
   "execution_count": null,
   "metadata": {},
   "outputs": [],
   "source": []
  },
  {
   "cell_type": "markdown",
   "metadata": {
    "collapsed": true
   },
   "source": [
    "# NN"
   ]
  },
  {
   "cell_type": "code",
   "execution_count": 89,
   "metadata": {},
   "outputs": [],
   "source": [
    "from h2o.estimators.deeplearning import H2ODeepLearningEstimator"
   ]
  },
  {
   "cell_type": "code",
   "execution_count": 125,
   "metadata": {},
   "outputs": [
    {
     "name": "stdout",
     "output_type": "stream",
     "text": [
      "deeplearning Grid Build progress: |███████████████████████████████████████| 100%\n"
     ]
    }
   ],
   "source": [
    "## NN with random hyperparameter search\n",
    "# train many different NN models with random hyperparameters\n",
    "# and select best model based on validation error\n",
    "\n",
    "# define random grid search parameters\n",
    "hyper_parameters = {'hidden':[[170, 320], [80, 190], [320, 160, 80], [100], [50, 50, 50, 50]],\n",
    "                    'l1':[s/1e4 for s in range(0, 1000, 100)],\n",
    "                    'l2':[s/1e5 for s in range(0, 1000, 100)],\n",
    "                    'input_dropout_ratio':[s/1e2 for s in range(0, 20, 2)]}\n",
    "\n",
    "# define search strategy\n",
    "search_criteria = {'strategy':'RandomDiscrete',\n",
    "                   'max_models':20,\n",
    "                   'max_runtime_secs':1800}\n",
    "\n",
    "# initialize grid search\n",
    "nnsearch = H2OGridSearch(H2ODeepLearningEstimator(nfolds=5,fold_assignment='Modulo',keep_cross_validation_predictions=True),\n",
    "                        hyper_params=hyper_parameters,\n",
    "                        search_criteria=search_criteria)\n",
    "\n",
    "# execute training w/ grid search\n",
    "nnsearch.train(x=X,\n",
    "              y=y,\n",
    "              training_frame=train_df,\n",
    "              validation_frame=validate_df)\n"
   ]
  },
  {
   "cell_type": "code",
   "execution_count": 126,
   "metadata": {},
   "outputs": [
    {
     "name": "stdout",
     "output_type": "stream",
     "text": [
      "        hidden input_dropout_ratio   l1     l2  \\\n",
      "0    [80, 190]                0.18  0.0  0.008   \n",
      "\n",
      "                                                               model_ids  \\\n",
      "0  Grid_DeepLearning_py_35_sid_9c4e_model_python_1530288365896_4_model_0   \n",
      "\n",
      "      residual_deviance  \n",
      "0  0.054739520316708624  \n",
      "Model Details\n",
      "=============\n",
      "H2ODeepLearningEstimator :  Deep Learning\n",
      "Model Key:  Grid_DeepLearning_py_35_sid_9c4e_model_python_1530288365896_4_model_0\n",
      "\n",
      "\n",
      "ModelMetricsRegression: deeplearning\n",
      "** Reported on train data. **\n",
      "\n",
      "MSE: 0.053774502103700834\n",
      "RMSE: 0.2318932989624772\n",
      "MAE: 0.15354234695365512\n",
      "RMSLE: 0.1719326838563551\n",
      "Mean Residual Deviance: 0.053774502103700834\n",
      "\n",
      "ModelMetricsRegression: deeplearning\n",
      "** Reported on validation data. **\n",
      "\n",
      "MSE: 0.05447697573953865\n",
      "RMSE: 0.23340303284134645\n",
      "MAE: 0.15471240384460602\n",
      "RMSLE: 0.17297033670264533\n",
      "Mean Residual Deviance: 0.05447697573953865\n",
      "\n",
      "ModelMetricsRegression: deeplearning\n",
      "** Reported on cross-validation data. **\n",
      "\n",
      "MSE: 0.054739520316708624\n",
      "RMSE: 0.2339647843516383\n",
      "MAE: 0.14898759961636962\n",
      "RMSLE: 0.17353736477414103\n",
      "Mean Residual Deviance: 0.054739520316708624\n",
      "Cross-Validation Metrics Summary: \n"
     ]
    },
    {
     "data": {
      "text/html": [
       "<div style=\"overflow:auto\"><table style=\"width:50%\"><tr><td><b></b></td>\n",
       "<td><b>mean</b></td>\n",
       "<td><b>sd</b></td>\n",
       "<td><b>cv_1_valid</b></td>\n",
       "<td><b>cv_2_valid</b></td>\n",
       "<td><b>cv_3_valid</b></td>\n",
       "<td><b>cv_4_valid</b></td>\n",
       "<td><b>cv_5_valid</b></td></tr>\n",
       "<tr><td>mae</td>\n",
       "<td>0.1508904</td>\n",
       "<td>0.0040583</td>\n",
       "<td>0.1527832</td>\n",
       "<td>0.1499340</td>\n",
       "<td>0.1607815</td>\n",
       "<td>0.1468458</td>\n",
       "<td>0.1441074</td></tr>\n",
       "<tr><td>mean_residual_deviance</td>\n",
       "<td>0.0549017</td>\n",
       "<td>0.0003338</td>\n",
       "<td>0.0544598</td>\n",
       "<td>0.0545042</td>\n",
       "<td>0.0547281</td>\n",
       "<td>0.0550782</td>\n",
       "<td>0.0557382</td></tr>\n",
       "<tr><td>mse</td>\n",
       "<td>0.0549017</td>\n",
       "<td>0.0003338</td>\n",
       "<td>0.0544598</td>\n",
       "<td>0.0545042</td>\n",
       "<td>0.0547281</td>\n",
       "<td>0.0550782</td>\n",
       "<td>0.0557382</td></tr>\n",
       "<tr><td>r2</td>\n",
       "<td>0.1879132</td>\n",
       "<td>0.0034658</td>\n",
       "<td>0.1903282</td>\n",
       "<td>0.1896023</td>\n",
       "<td>0.1941501</td>\n",
       "<td>0.1858302</td>\n",
       "<td>0.1796552</td></tr>\n",
       "<tr><td>residual_deviance</td>\n",
       "<td>0.0549017</td>\n",
       "<td>0.0003338</td>\n",
       "<td>0.0544598</td>\n",
       "<td>0.0545042</td>\n",
       "<td>0.0547281</td>\n",
       "<td>0.0550782</td>\n",
       "<td>0.0557382</td></tr>\n",
       "<tr><td>rmse</td>\n",
       "<td>0.2343090</td>\n",
       "<td>0.0007111</td>\n",
       "<td>0.2333663</td>\n",
       "<td>0.2334613</td>\n",
       "<td>0.2339404</td>\n",
       "<td>0.2346874</td>\n",
       "<td>0.2360894</td></tr>\n",
       "<tr><td>rmsle</td>\n",
       "<td>0.1739157</td>\n",
       "<td>0.0005938</td>\n",
       "<td>0.1738316</td>\n",
       "<td>0.1724436</td>\n",
       "<td>0.1747511</td>\n",
       "<td>0.1738321</td>\n",
       "<td>0.1747203</td></tr></table></div>"
      ],
      "text/plain": [
       "                        mean       sd           cv_1_valid    cv_2_valid    cv_3_valid    cv_4_valid    cv_5_valid\n",
       "----------------------  ---------  -----------  ------------  ------------  ------------  ------------  ------------\n",
       "mae                     0.15089    0.00405831   0.152783      0.149934      0.160782      0.146846      0.144107\n",
       "mean_residual_deviance  0.0549017  0.000333814  0.0544598     0.0545042     0.0547281     0.0550782     0.0557382\n",
       "mse                     0.0549017  0.000333814  0.0544598     0.0545042     0.0547281     0.0550782     0.0557382\n",
       "r2                      0.187913   0.0034658    0.190328      0.189602      0.19415       0.18583       0.179655\n",
       "residual_deviance       0.0549017  0.000333814  0.0544598     0.0545042     0.0547281     0.0550782     0.0557382\n",
       "rmse                    0.234309   0.000711075  0.233366      0.233461      0.23394       0.234687      0.236089\n",
       "rmsle                   0.173916   0.000593841  0.173832      0.172444      0.174751      0.173832      0.17472"
      ]
     },
     "metadata": {},
     "output_type": "display_data"
    },
    {
     "name": "stdout",
     "output_type": "stream",
     "text": [
      "Scoring History: \n"
     ]
    },
    {
     "data": {
      "text/html": [
       "<div style=\"overflow:auto\"><table style=\"width:50%\"><tr><td><b></b></td>\n",
       "<td><b>timestamp</b></td>\n",
       "<td><b>duration</b></td>\n",
       "<td><b>training_speed</b></td>\n",
       "<td><b>epochs</b></td>\n",
       "<td><b>iterations</b></td>\n",
       "<td><b>samples</b></td>\n",
       "<td><b>training_rmse</b></td>\n",
       "<td><b>training_deviance</b></td>\n",
       "<td><b>training_mae</b></td>\n",
       "<td><b>training_r2</b></td>\n",
       "<td><b>validation_rmse</b></td>\n",
       "<td><b>validation_deviance</b></td>\n",
       "<td><b>validation_mae</b></td>\n",
       "<td><b>validation_r2</b></td></tr>\n",
       "<tr><td></td>\n",
       "<td>2018-06-29 13:29:31</td>\n",
       "<td> 0.000 sec</td>\n",
       "<td>None</td>\n",
       "<td>0.0</td>\n",
       "<td>0</td>\n",
       "<td>0.0</td>\n",
       "<td>nan</td>\n",
       "<td>nan</td>\n",
       "<td>nan</td>\n",
       "<td>nan</td>\n",
       "<td>nan</td>\n",
       "<td>nan</td>\n",
       "<td>nan</td>\n",
       "<td>nan</td></tr>\n",
       "<tr><td></td>\n",
       "<td>2018-06-29 13:29:32</td>\n",
       "<td>29 min 27.696 sec</td>\n",
       "<td>4271 obs/sec</td>\n",
       "<td>0.0034863</td>\n",
       "<td>1</td>\n",
       "<td>3669.0</td>\n",
       "<td>0.2455370</td>\n",
       "<td>0.0602884</td>\n",
       "<td>0.1587248</td>\n",
       "<td>0.0987433</td>\n",
       "<td>0.2469175</td>\n",
       "<td>0.0609683</td>\n",
       "<td>0.1596570</td>\n",
       "<td>0.0997405</td></tr>\n",
       "<tr><td></td>\n",
       "<td>2018-06-29 13:34:30</td>\n",
       "<td>34 min 27.882 sec</td>\n",
       "<td>9533 obs/sec</td>\n",
       "<td>2.2213340</td>\n",
       "<td>637</td>\n",
       "<td>2337723.0</td>\n",
       "<td>0.2318933</td>\n",
       "<td>0.0537745</td>\n",
       "<td>0.1535423</td>\n",
       "<td>0.1961204</td>\n",
       "<td>0.2334030</td>\n",
       "<td>0.0544770</td>\n",
       "<td>0.1547124</td>\n",
       "<td>0.1955911</td></tr></table></div>"
      ],
      "text/plain": [
       "    timestamp            duration           training_speed    epochs      iterations    samples      training_rmse    training_deviance    training_mae    training_r2    validation_rmse    validation_deviance    validation_mae    validation_r2\n",
       "--  -------------------  -----------------  ----------------  ----------  ------------  -----------  ---------------  -------------------  --------------  -------------  -----------------  ---------------------  ----------------  ---------------\n",
       "    2018-06-29 13:29:31  0.000 sec                            0           0             0            nan              nan                  nan             nan            nan                nan                    nan               nan\n",
       "    2018-06-29 13:29:32  29 min 27.696 sec  4271 obs/sec      0.00348633  1             3669         0.245537         0.0602884            0.158725        0.0987433      0.246918           0.0609683              0.159657          0.0997405\n",
       "    2018-06-29 13:34:30  34 min 27.882 sec  9533 obs/sec      2.22133     637           2.33772e+06  0.231893         0.0537745            0.153542        0.19612        0.233403           0.054477               0.154712          0.195591"
      ]
     },
     "metadata": {},
     "output_type": "display_data"
    },
    {
     "name": "stdout",
     "output_type": "stream",
     "text": [
      "Variable Importances: \n"
     ]
    },
    {
     "data": {
      "text/html": [
       "<div style=\"overflow:auto\"><table style=\"width:50%\"><tr><td><b>variable</b></td>\n",
       "<td><b>relative_importance</b></td>\n",
       "<td><b>scaled_importance</b></td>\n",
       "<td><b>percentage</b></td></tr>\n",
       "<tr><td>category_name_en.Offer services</td>\n",
       "<td>1.0</td>\n",
       "<td>1.0</td>\n",
       "<td>0.0013066</td></tr>\n",
       "<tr><td>category_name_en.Cars</td>\n",
       "<td>0.9398981</td>\n",
       "<td>0.9398981</td>\n",
       "<td>0.0012280</td></tr>\n",
       "<tr><td>parent_category_name_en.Services</td>\n",
       "<td>0.9011490</td>\n",
       "<td>0.9011490</td>\n",
       "<td>0.0011774</td></tr>\n",
       "<tr><td>parent_category_name_en.Personal belongings</td>\n",
       "<td>0.7965522</td>\n",
       "<td>0.7965522</td>\n",
       "<td>0.0010408</td></tr>\n",
       "<tr><td>category_name_en.Apartments</td>\n",
       "<td>0.7717899</td>\n",
       "<td>0.7717899</td>\n",
       "<td>0.0010084</td></tr>\n",
       "<tr><td>---</td>\n",
       "<td>---</td>\n",
       "<td>---</td>\n",
       "<td>---</td></tr>\n",
       "<tr><td>seq_group15.missing(NA)</td>\n",
       "<td>0.0</td>\n",
       "<td>0.0</td>\n",
       "<td>0.0</td></tr>\n",
       "<tr><td>parent_category_name_en.missing(NA)</td>\n",
       "<td>0.0</td>\n",
       "<td>0.0</td>\n",
       "<td>0.0</td></tr>\n",
       "<tr><td>day of week.missing(NA)</td>\n",
       "<td>0.0</td>\n",
       "<td>0.0</td>\n",
       "<td>0.0</td></tr>\n",
       "<tr><td>user_type.missing(NA)</td>\n",
       "<td>0.0</td>\n",
       "<td>0.0</td>\n",
       "<td>0.0</td></tr>\n",
       "<tr><td>month.missing(NA)</td>\n",
       "<td>0.0</td>\n",
       "<td>0.0</td>\n",
       "<td>0.0</td></tr></table></div>"
      ],
      "text/plain": [
       "variable                                     relative_importance    scaled_importance    percentage\n",
       "-------------------------------------------  ---------------------  -------------------  ---------------------\n",
       "category_name_en.Offer services              1.0                    1.0                  0.0013065708631620724\n",
       "category_name_en.Cars                        0.9398980736732483     0.9398980736732483   0.001228043437403625\n",
       "parent_category_name_en.Services             0.9011489748954773     0.9011489748954773   0.0011774149939668005\n",
       "parent_category_name_en.Personal belongings  0.7965522408485413     0.7965522408485413   0.0010407519488791614\n",
       "category_name_en.Apartments                  0.7717899084091187     0.7717899084091187   0.0010083982068098789\n",
       "---                                          ---                    ---                  ---\n",
       "seq_group15.missing(NA)                      0.0                    0.0                  0.0\n",
       "parent_category_name_en.missing(NA)          0.0                    0.0                  0.0\n",
       "day of week.missing(NA)                      0.0                    0.0                  0.0\n",
       "user_type.missing(NA)                        0.0                    0.0                  0.0\n",
       "month.missing(NA)                            0.0                    0.0                  0.0"
      ]
     },
     "metadata": {},
     "output_type": "display_data"
    },
    {
     "name": "stdout",
     "output_type": "stream",
     "text": [
      "\n",
      "See the whole table with table.as_data_frame()\n"
     ]
    },
    {
     "data": {
      "text/plain": []
     },
     "execution_count": 126,
     "metadata": {},
     "output_type": "execute_result"
    }
   ],
   "source": [
    "nnsearch.show()\n",
    "\n",
    "# select best model\n",
    "nn_model = nnsearch.get_grid()[0]\n",
    "\n",
    "# print model information\n",
    "nn_model"
   ]
  },
  {
   "cell_type": "code",
   "execution_count": 127,
   "metadata": {},
   "outputs": [
    {
     "name": "stdout",
     "output_type": "stream",
     "text": [
      "0.2318932989624772\n",
      "0.23340303284134645\n"
     ]
    }
   ],
   "source": [
    "print(nn_model.rmse(train=True))\n",
    "print(nn_model.rmse(valid=True))"
   ]
  },
  {
   "cell_type": "code",
   "execution_count": 128,
   "metadata": {},
   "outputs": [],
   "source": [
    "# save the model\n",
    "model_path = h2o.save_model(model=nn_model, path= \"C:/Users/wchen/Desktop/models\", force=True)"
   ]
  },
  {
   "cell_type": "code",
   "execution_count": 129,
   "metadata": {},
   "outputs": [
    {
     "name": "stdout",
     "output_type": "stream",
     "text": [
      "deeplearning prediction progress: |███████████████████████████████████████| 100%\n"
     ]
    },
    {
     "name": "stderr",
     "output_type": "stream",
     "text": [
      "C:\\Users\\wchen\\AppData\\Local\\Continuum\\anaconda3\\lib\\site-packages\\h2o\\job.py:69: UserWarning: Test/Validation dataset column 'image_top_1' has levels not trained on: [200, 614]\n",
      "  warnings.warn(w)\n"
     ]
    }
   ],
   "source": [
    "nn_model_test = nn_model.predict(test_df)\n",
    "gen_submission(nn_model_test)"
   ]
  },
  {
   "cell_type": "code",
   "execution_count": null,
   "metadata": {},
   "outputs": [],
   "source": []
  },
  {
   "cell_type": "code",
   "execution_count": null,
   "metadata": {},
   "outputs": [],
   "source": []
  },
  {
   "cell_type": "markdown",
   "metadata": {},
   "source": [
    "### 6. Stacking Ensemble Model"
   ]
  },
  {
   "cell_type": "code",
   "execution_count": 132,
   "metadata": {},
   "outputs": [],
   "source": [
    "# load the model\n",
    "GLM = h2o.load_model(\"C:/Users/wchen/Desktop/models/GLM\")\n",
    "RF = h2o.load_model(\"C:/Users/wchen/Desktop/models/Grid_DRF\")\n",
    "GBM = h2o.load_model(\"C:/Users/wchen/Desktop/models/Grid_GBM\")"
   ]
  },
  {
   "cell_type": "code",
   "execution_count": null,
   "metadata": {},
   "outputs": [],
   "source": [
    "ensemble = H2OStackedEnsembleEstimator(base_models=[glm_model,rf_model,gbm_model])\n",
    "ensemble.train(x=X, y=y, training_frame=train_df,validation_frame=validate_df)"
   ]
  },
  {
   "cell_type": "code",
   "execution_count": null,
   "metadata": {},
   "outputs": [],
   "source": [
    "print(ensemble.rmse(train=True))"
   ]
  },
  {
   "cell_type": "code",
   "execution_count": null,
   "metadata": {},
   "outputs": [],
   "source": [
    "print(ensemble.rmse(valid=True))"
   ]
  },
  {
   "cell_type": "code",
   "execution_count": null,
   "metadata": {},
   "outputs": [],
   "source": [
    "ensemble_test1 = ensemble.predict(test_df)\n",
    "gen_submission(ensemble_test1)"
   ]
  },
  {
   "cell_type": "code",
   "execution_count": 133,
   "metadata": {},
   "outputs": [
    {
     "name": "stdout",
     "output_type": "stream",
     "text": [
      "stackedensemble Model Build progress: | (failed)\n"
     ]
    },
    {
     "ename": "OSError",
     "evalue": "Job with key $03017f00000132d4ffffffff$_911f5807a58e0d52f5520e0785c84709 failed with an exception: java.lang.NullPointerException\nstacktrace: \njava.lang.NullPointerException\r\n\tat hex.StackedEnsembleModel.checkAndInheritModelProperties(StackedEnsembleModel.java:313)\r\n\tat hex.ensemble.StackedEnsemble$StackedEnsembleDriver.computeImpl(StackedEnsemble.java:234)\r\n\tat hex.ModelBuilder$Driver.compute2(ModelBuilder.java:214)\r\n\tat water.H2O$H2OCountedCompleter.compute(H2O.java:1260)\r\n\tat jsr166y.CountedCompleter.exec(CountedCompleter.java:468)\r\n\tat jsr166y.ForkJoinTask.doExec(ForkJoinTask.java:263)\r\n\tat jsr166y.ForkJoinPool$WorkQueue.runTask(ForkJoinPool.java:974)\r\n\tat jsr166y.ForkJoinPool.runWorker(ForkJoinPool.java:1477)\r\n\tat jsr166y.ForkJoinWorkerThread.run(ForkJoinWorkerThread.java:104)\r\n",
     "output_type": "error",
     "traceback": [
      "\u001b[1;31m---------------------------------------------------------------------------\u001b[0m",
      "\u001b[1;31mOSError\u001b[0m                                   Traceback (most recent call last)",
      "\u001b[1;32m<ipython-input-133-bbc5cdda0d13>\u001b[0m in \u001b[0;36m<module>\u001b[1;34m()\u001b[0m\n\u001b[0;32m      1\u001b[0m \u001b[0mensemble2\u001b[0m \u001b[1;33m=\u001b[0m \u001b[0mH2OStackedEnsembleEstimator\u001b[0m\u001b[1;33m(\u001b[0m\u001b[0mbase_models\u001b[0m\u001b[1;33m=\u001b[0m\u001b[1;33m[\u001b[0m\u001b[0mGLM\u001b[0m\u001b[1;33m,\u001b[0m\u001b[0mRF\u001b[0m\u001b[1;33m,\u001b[0m\u001b[0mGBM\u001b[0m\u001b[1;33m]\u001b[0m\u001b[1;33m)\u001b[0m\u001b[1;33m\u001b[0m\u001b[0m\n\u001b[1;32m----> 2\u001b[1;33m \u001b[0mensemble2\u001b[0m\u001b[1;33m.\u001b[0m\u001b[0mtrain\u001b[0m\u001b[1;33m(\u001b[0m\u001b[0mx\u001b[0m\u001b[1;33m=\u001b[0m\u001b[0mX\u001b[0m\u001b[1;33m,\u001b[0m \u001b[0my\u001b[0m\u001b[1;33m=\u001b[0m\u001b[0my\u001b[0m\u001b[1;33m,\u001b[0m \u001b[0mtraining_frame\u001b[0m\u001b[1;33m=\u001b[0m\u001b[0mtrain_df\u001b[0m\u001b[1;33m,\u001b[0m\u001b[0mvalidation_frame\u001b[0m\u001b[1;33m=\u001b[0m\u001b[0mvalidate_df\u001b[0m\u001b[1;33m)\u001b[0m\u001b[1;33m\u001b[0m\u001b[0m\n\u001b[0m",
      "\u001b[1;32m~\\AppData\\Local\\Continuum\\anaconda3\\lib\\site-packages\\h2o\\estimators\\estimator_base.py\u001b[0m in \u001b[0;36mtrain\u001b[1;34m(self, x, y, training_frame, offset_column, fold_column, weights_column, validation_frame, max_runtime_secs, ignored_columns, model_id, verbose)\u001b[0m\n\u001b[0;32m    232\u001b[0m             \u001b[1;32mreturn\u001b[0m\u001b[1;33m\u001b[0m\u001b[0m\n\u001b[0;32m    233\u001b[0m \u001b[1;33m\u001b[0m\u001b[0m\n\u001b[1;32m--> 234\u001b[1;33m         \u001b[0mmodel\u001b[0m\u001b[1;33m.\u001b[0m\u001b[0mpoll\u001b[0m\u001b[1;33m(\u001b[0m\u001b[0mverbose_model_scoring_history\u001b[0m\u001b[1;33m=\u001b[0m\u001b[0mverbose\u001b[0m\u001b[1;33m)\u001b[0m\u001b[1;33m\u001b[0m\u001b[0m\n\u001b[0m\u001b[0;32m    235\u001b[0m         \u001b[0mmodel_json\u001b[0m \u001b[1;33m=\u001b[0m \u001b[0mh2o\u001b[0m\u001b[1;33m.\u001b[0m\u001b[0mapi\u001b[0m\u001b[1;33m(\u001b[0m\u001b[1;34m\"GET /%d/Models/%s\"\u001b[0m \u001b[1;33m%\u001b[0m \u001b[1;33m(\u001b[0m\u001b[0mrest_ver\u001b[0m\u001b[1;33m,\u001b[0m \u001b[0mmodel\u001b[0m\u001b[1;33m.\u001b[0m\u001b[0mdest_key\u001b[0m\u001b[1;33m)\u001b[0m\u001b[1;33m)\u001b[0m\u001b[1;33m[\u001b[0m\u001b[1;34m\"models\"\u001b[0m\u001b[1;33m]\u001b[0m\u001b[1;33m[\u001b[0m\u001b[1;36m0\u001b[0m\u001b[1;33m]\u001b[0m\u001b[1;33m\u001b[0m\u001b[0m\n\u001b[0;32m    236\u001b[0m         \u001b[0mself\u001b[0m\u001b[1;33m.\u001b[0m\u001b[0m_resolve_model\u001b[0m\u001b[1;33m(\u001b[0m\u001b[0mmodel\u001b[0m\u001b[1;33m.\u001b[0m\u001b[0mdest_key\u001b[0m\u001b[1;33m,\u001b[0m \u001b[0mmodel_json\u001b[0m\u001b[1;33m)\u001b[0m\u001b[1;33m\u001b[0m\u001b[0m\n",
      "\u001b[1;32m~\\AppData\\Local\\Continuum\\anaconda3\\lib\\site-packages\\h2o\\job.py\u001b[0m in \u001b[0;36mpoll\u001b[1;34m(self, verbose_model_scoring_history)\u001b[0m\n\u001b[0;32m     75\u001b[0m             \u001b[1;32mif\u001b[0m \u001b[1;33m(\u001b[0m\u001b[0misinstance\u001b[0m\u001b[1;33m(\u001b[0m\u001b[0mself\u001b[0m\u001b[1;33m.\u001b[0m\u001b[0mjob\u001b[0m\u001b[1;33m,\u001b[0m \u001b[0mdict\u001b[0m\u001b[1;33m)\u001b[0m\u001b[1;33m)\u001b[0m \u001b[1;32mand\u001b[0m \u001b[1;33m(\u001b[0m\u001b[1;34m\"stacktrace\"\u001b[0m \u001b[1;32min\u001b[0m \u001b[0mlist\u001b[0m\u001b[1;33m(\u001b[0m\u001b[0mself\u001b[0m\u001b[1;33m.\u001b[0m\u001b[0mjob\u001b[0m\u001b[1;33m)\u001b[0m\u001b[1;33m)\u001b[0m\u001b[1;33m:\u001b[0m\u001b[1;33m\u001b[0m\u001b[0m\n\u001b[0;32m     76\u001b[0m                 raise EnvironmentError(\"Job with key {} failed with an exception: {}\\nstacktrace: \"\n\u001b[1;32m---> 77\u001b[1;33m                                        \"\\n{}\".format(self.job_key, self.exception, self.job[\"stacktrace\"]))\n\u001b[0m\u001b[0;32m     78\u001b[0m             \u001b[1;32melse\u001b[0m\u001b[1;33m:\u001b[0m\u001b[1;33m\u001b[0m\u001b[0m\n\u001b[0;32m     79\u001b[0m                 \u001b[1;32mraise\u001b[0m \u001b[0mEnvironmentError\u001b[0m\u001b[1;33m(\u001b[0m\u001b[1;34m\"Job with key %s failed with an exception: %s\"\u001b[0m \u001b[1;33m%\u001b[0m \u001b[1;33m(\u001b[0m\u001b[0mself\u001b[0m\u001b[1;33m.\u001b[0m\u001b[0mjob_key\u001b[0m\u001b[1;33m,\u001b[0m \u001b[0mself\u001b[0m\u001b[1;33m.\u001b[0m\u001b[0mexception\u001b[0m\u001b[1;33m)\u001b[0m\u001b[1;33m)\u001b[0m\u001b[1;33m\u001b[0m\u001b[0m\n",
      "\u001b[1;31mOSError\u001b[0m: Job with key $03017f00000132d4ffffffff$_911f5807a58e0d52f5520e0785c84709 failed with an exception: java.lang.NullPointerException\nstacktrace: \njava.lang.NullPointerException\r\n\tat hex.StackedEnsembleModel.checkAndInheritModelProperties(StackedEnsembleModel.java:313)\r\n\tat hex.ensemble.StackedEnsemble$StackedEnsembleDriver.computeImpl(StackedEnsemble.java:234)\r\n\tat hex.ModelBuilder$Driver.compute2(ModelBuilder.java:214)\r\n\tat water.H2O$H2OCountedCompleter.compute(H2O.java:1260)\r\n\tat jsr166y.CountedCompleter.exec(CountedCompleter.java:468)\r\n\tat jsr166y.ForkJoinTask.doExec(ForkJoinTask.java:263)\r\n\tat jsr166y.ForkJoinPool$WorkQueue.runTask(ForkJoinPool.java:974)\r\n\tat jsr166y.ForkJoinPool.runWorker(ForkJoinPool.java:1477)\r\n\tat jsr166y.ForkJoinWorkerThread.run(ForkJoinWorkerThread.java:104)\r\n"
     ]
    }
   ],
   "source": [
    "ensemble2 = H2OStackedEnsembleEstimator(base_models=[GLM,RF,GBM])\n",
    "ensemble2.train(x=X, y=y, training_frame=train_df,validation_frame=validate_df)"
   ]
  },
  {
   "cell_type": "code",
   "execution_count": null,
   "metadata": {},
   "outputs": [],
   "source": [
    "print(ensemble.rmse(train=True))\n",
    "print(ensemble.rmse(valid=True))"
   ]
  },
  {
   "cell_type": "code",
   "execution_count": null,
   "metadata": {},
   "outputs": [],
   "source": [
    "ensemble_test1 = ensemble.predict(test_df)\n",
    "gen_submission(ensemble_test1)"
   ]
  },
  {
   "cell_type": "code",
   "execution_count": null,
   "metadata": {},
   "outputs": [],
   "source": []
  }
 ],
 "metadata": {
  "kernelspec": {
   "display_name": "Python 3",
   "language": "python",
   "name": "python3"
  },
  "language_info": {
   "codemirror_mode": {
    "name": "ipython",
    "version": 3
   },
   "file_extension": ".py",
   "mimetype": "text/x-python",
   "name": "python",
   "nbconvert_exporter": "python",
   "pygments_lexer": "ipython3",
   "version": "3.6.4"
  }
 },
 "nbformat": 4,
 "nbformat_minor": 2
}
